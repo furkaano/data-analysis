{
 "cells": [
  {
   "cell_type": "markdown",
   "id": "married-gathering",
   "metadata": {},
   "source": [
    "### IMDB"
   ]
  },
  {
   "cell_type": "code",
   "execution_count": 31,
   "id": "annoying-immunology",
   "metadata": {},
   "outputs": [],
   "source": [
    "import pandas as pd\n",
    "import numpy as np\n",
    "import re\n",
    "import seaborn as sns\n",
    "import matplotlib.pyplot as plt\n",
    "%matplotlib inline\n",
    "from collections import Counter\n",
    "\n",
    "\n",
    "import spacy\n",
    "import en_core_web_sm\n",
    "from spacy import displacy\n",
    "from spacy.util import minibatch, compounding\n",
    "import scattertext as st\n",
    "import re,string,unicodedata\n",
    "from string import punctuation\n",
    "\n",
    "import nltk\n",
    "from nltk.corpus import stopwords\n",
    "from nltk.tokenize import word_tokenize\n",
    "from wordcloud import WordCloud,STOPWORDS\n",
    "\n",
    "from sklearn.preprocessing import StandardScaler\n",
    "from sklearn.pipeline import Pipeline\n",
    "from sklearn.feature_extraction.text import CountVectorizer, TfidfVectorizer\n",
    "from sklearn.linear_model import LogisticRegression\n",
    "from sklearn.svm import LinearSVC\n",
    "from sklearn.ensemble import GradientBoostingClassifier\n",
    "from sklearn.naive_bayes import GaussianNB, MultinomialNB\n",
    "from sklearn.model_selection import train_test_split\n",
    "from sklearn.metrics import classification_report, accuracy_score, confusion_matrix, plot_confusion_matrix, plot_roc_curve, plot_precision_recall_curve\n",
    "from xgboost.sklearn import XGBClassifier"
   ]
  },
  {
   "cell_type": "code",
   "execution_count": 2,
   "id": "differential-aging",
   "metadata": {},
   "outputs": [
    {
     "data": {
      "text/html": [
       "<div>\n",
       "<style scoped>\n",
       "    .dataframe tbody tr th:only-of-type {\n",
       "        vertical-align: middle;\n",
       "    }\n",
       "\n",
       "    .dataframe tbody tr th {\n",
       "        vertical-align: top;\n",
       "    }\n",
       "\n",
       "    .dataframe thead th {\n",
       "        text-align: right;\n",
       "    }\n",
       "</style>\n",
       "<table border=\"1\" class=\"dataframe\">\n",
       "  <thead>\n",
       "    <tr style=\"text-align: right;\">\n",
       "      <th></th>\n",
       "      <th>review</th>\n",
       "      <th>sentiment</th>\n",
       "    </tr>\n",
       "  </thead>\n",
       "  <tbody>\n",
       "    <tr>\n",
       "      <th>0</th>\n",
       "      <td>One of the other reviewers has mentioned that ...</td>\n",
       "      <td>positive</td>\n",
       "    </tr>\n",
       "    <tr>\n",
       "      <th>1</th>\n",
       "      <td>A wonderful little production. &lt;br /&gt;&lt;br /&gt;The...</td>\n",
       "      <td>positive</td>\n",
       "    </tr>\n",
       "    <tr>\n",
       "      <th>2</th>\n",
       "      <td>I thought this was a wonderful way to spend ti...</td>\n",
       "      <td>positive</td>\n",
       "    </tr>\n",
       "    <tr>\n",
       "      <th>3</th>\n",
       "      <td>Basically there's a family where a little boy ...</td>\n",
       "      <td>negative</td>\n",
       "    </tr>\n",
       "    <tr>\n",
       "      <th>4</th>\n",
       "      <td>Petter Mattei's \"Love in the Time of Money\" is...</td>\n",
       "      <td>positive</td>\n",
       "    </tr>\n",
       "  </tbody>\n",
       "</table>\n",
       "</div>"
      ],
      "text/plain": [
       "                                              review sentiment\n",
       "0  One of the other reviewers has mentioned that ...  positive\n",
       "1  A wonderful little production. <br /><br />The...  positive\n",
       "2  I thought this was a wonderful way to spend ti...  positive\n",
       "3  Basically there's a family where a little boy ...  negative\n",
       "4  Petter Mattei's \"Love in the Time of Money\" is...  positive"
      ]
     },
     "execution_count": 2,
     "metadata": {},
     "output_type": "execute_result"
    }
   ],
   "source": [
    "data = pd.read_csv('IMDB Dataset.csv')\n",
    "data.head()"
   ]
  },
  {
   "cell_type": "code",
   "execution_count": 3,
   "id": "figured-sector",
   "metadata": {},
   "outputs": [
    {
     "data": {
      "text/plain": [
       "positive    25000\n",
       "negative    25000\n",
       "Name: sentiment, dtype: int64"
      ]
     },
     "execution_count": 3,
     "metadata": {},
     "output_type": "execute_result"
    }
   ],
   "source": [
    "data['sentiment'].value_counts()"
   ]
  },
  {
   "cell_type": "code",
   "execution_count": 4,
   "id": "polished-gentleman",
   "metadata": {},
   "outputs": [
    {
     "name": "stderr",
     "output_type": "stream",
     "text": [
      "C:\\Users\\burak\\AppData\\Roaming\\Python\\Python39\\site-packages\\seaborn\\_decorators.py:36: FutureWarning: Pass the following variable as a keyword arg: x. From version 0.12, the only valid positional argument will be `data`, and passing other arguments without an explicit keyword will result in an error or misinterpretation.\n",
      "  warnings.warn(\n"
     ]
    },
    {
     "data": {
      "text/plain": [
       "<AxesSubplot:xlabel='sentiment', ylabel='count'>"
      ]
     },
     "execution_count": 4,
     "metadata": {},
     "output_type": "execute_result"
    },
    {
     "data": {
      "image/png": "[encoded data removed]",
      "text/plain": [
       "<Figure size 432x288 with 1 Axes>"
      ]
     },
     "metadata": {
      "needs_background": "light"
     },
     "output_type": "display_data"
    }
   ],
   "source": [
    "sns.countplot(data['sentiment'])"
   ]
  },
  {
   "cell_type": "code",
   "execution_count": 5,
   "id": "unusual-entrance",
   "metadata": {},
   "outputs": [
    {
     "name": "stdout",
     "output_type": "stream",
     "text": [
      "<class 'pandas.core.frame.DataFrame'>\n",
      "RangeIndex: 50000 entries, 0 to 49999\n",
      "Data columns (total 2 columns):\n",
      " #   Column     Non-Null Count  Dtype \n",
      "---  ------     --------------  ----- \n",
      " 0   review     50000 non-null  object\n",
      " 1   sentiment  50000 non-null  object\n",
      "dtypes: object(2)\n",
      "memory usage: 781.4+ KB\n"
     ]
    }
   ],
   "source": [
    "data.info()"
   ]
  },
  {
   "cell_type": "code",
   "execution_count": 6,
   "id": "brave-example",
   "metadata": {},
   "outputs": [
    {
     "data": {
      "text/html": [
       "<div>\n",
       "<style scoped>\n",
       "    .dataframe tbody tr th:only-of-type {\n",
       "        vertical-align: middle;\n",
       "    }\n",
       "\n",
       "    .dataframe tbody tr th {\n",
       "        vertical-align: top;\n",
       "    }\n",
       "\n",
       "    .dataframe thead th {\n",
       "        text-align: right;\n",
       "    }\n",
       "</style>\n",
       "<table border=\"1\" class=\"dataframe\">\n",
       "  <thead>\n",
       "    <tr style=\"text-align: right;\">\n",
       "      <th></th>\n",
       "      <th>review</th>\n",
       "      <th>sentiment</th>\n",
       "    </tr>\n",
       "  </thead>\n",
       "  <tbody>\n",
       "    <tr>\n",
       "      <th>count</th>\n",
       "      <td>50000</td>\n",
       "      <td>50000</td>\n",
       "    </tr>\n",
       "    <tr>\n",
       "      <th>unique</th>\n",
       "      <td>49582</td>\n",
       "      <td>2</td>\n",
       "    </tr>\n",
       "    <tr>\n",
       "      <th>top</th>\n",
       "      <td>Loved today's show!!! It was a variety and not...</td>\n",
       "      <td>positive</td>\n",
       "    </tr>\n",
       "    <tr>\n",
       "      <th>freq</th>\n",
       "      <td>5</td>\n",
       "      <td>25000</td>\n",
       "    </tr>\n",
       "  </tbody>\n",
       "</table>\n",
       "</div>"
      ],
      "text/plain": [
       "                                                   review sentiment\n",
       "count                                               50000     50000\n",
       "unique                                              49582         2\n",
       "top     Loved today's show!!! It was a variety and not...  positive\n",
       "freq                                                    5     25000"
      ]
     },
     "execution_count": 6,
     "metadata": {},
     "output_type": "execute_result"
    }
   ],
   "source": [
    "data.describe()"
   ]
  },
  {
   "cell_type": "markdown",
   "id": "buried-japan",
   "metadata": {},
   "source": [
    "### Sentiment Part"
   ]
  },
  {
   "cell_type": "code",
   "execution_count": 7,
   "id": "seeing-liberal",
   "metadata": {},
   "outputs": [],
   "source": [
    "# convert to numerical\n",
    "data['sentiment'] = data['sentiment'].apply(lambda x: 1 if x=='positive' else 0)"
   ]
  },
  {
   "cell_type": "markdown",
   "id": "bright-botswana",
   "metadata": {},
   "source": [
    "### Review Part"
   ]
  },
  {
   "cell_type": "code",
   "execution_count": null,
   "id": "subtle-robinson",
   "metadata": {},
   "outputs": [],
   "source": [
    "## wordcloud for positive review\n",
    "positive=data['review'][data['sentiment']==1]\n",
    "spamcloud=WordCloud(width=1200,height=800,background_color='white',max_words=25).generate(' '.join(positive))\n",
    "\n",
    "plt.figure(figsize=(12,8),facecolor='r')\n",
    "plt.imshow(spamcloud)\n",
    "plt.axis('off')\n",
    "plt.tight_layout(pad=0)\n",
    "plt.show()"
   ]
  },
  {
   "cell_type": "code",
   "execution_count": null,
   "id": "progressive-pearl",
   "metadata": {},
   "outputs": [],
   "source": [
    "## wordcloud for negative review\n",
    "positive=data['review'][data['sentiment']==0]\n",
    "spamcloud=WordCloud(width=1200,height=800,background_color='white',max_words=25).generate(' '.join(positive))\n",
    "\n",
    "plt.figure(figsize=(12,8),facecolor='r')\n",
    "plt.imshow(spamcloud)\n",
    "plt.axis('off')\n",
    "plt.tight_layout(pad=0)\n",
    "plt.show()"
   ]
  },
  {
   "cell_type": "code",
   "execution_count": 8,
   "id": "banned-adolescent",
   "metadata": {},
   "outputs": [],
   "source": [
    "## remove some unnecessary words such as br from wordcloud we see\n",
    "# REMOVE UNNECESSARY WORDS FROM DESCRIPTION\n",
    "data['review'] = data['review'].apply(lambda x: x.replace(\"<br />\", \"\"))\n",
    "data['review'] = data['review'].apply(lambda x: x.replace(\"br\", \"\"))\n",
    "data['review'] = data['review'].apply(lambda x: x.replace(\"<p><a\", \"\"))"
   ]
  },
  {
   "cell_type": "code",
   "execution_count": null,
   "id": "brave-region",
   "metadata": {},
   "outputs": [],
   "source": [
    "# AFTER REMOVING THESE WORDS CHECK AGAIN\n",
    "positive=data['review'][data['sentiment']==1]\n",
    "spamcloud=WordCloud(width=1200,height=800,background_color='white',max_words=25).generate(' '.join(positive))\n",
    "\n",
    "plt.figure(figsize=(12,8),facecolor='r')\n",
    "plt.imshow(spamcloud)\n",
    "plt.axis('off')\n",
    "plt.tight_layout(pad=0)\n",
    "plt.show()\n",
    "\n",
    "negative=data['review'][data['sentiment']==0]\n",
    "spamcloud=WordCloud(width=1200,height=800,background_color='white',max_words=25).generate(' '.join(negative))\n",
    "\n",
    "plt.figure(figsize=(12,8),facecolor='r')\n",
    "plt.imshow(spamcloud)\n",
    "plt.axis('off')\n",
    "plt.tight_layout(pad=0)\n",
    "plt.show()"
   ]
  },
  {
   "cell_type": "code",
   "execution_count": 9,
   "id": "enhanced-collect",
   "metadata": {},
   "outputs": [
    {
     "name": "stdout",
     "output_type": "stream",
     "text": [
      "There are 419 duplicate reviews present in the dataset\n"
     ]
    }
   ],
   "source": [
    "# check duplicate\n",
    "num_duplicates = data.duplicated().sum() #identify duplicates\n",
    "print('There are {} duplicate reviews present in the dataset'.format(num_duplicates))"
   ]
  },
  {
   "cell_type": "code",
   "execution_count": 10,
   "id": "abstract-surge",
   "metadata": {},
   "outputs": [],
   "source": [
    "# drop duplicate rows\n",
    "data.drop_duplicates(inplace = True)"
   ]
  },
  {
   "cell_type": "code",
   "execution_count": 11,
   "id": "enabling-temperature",
   "metadata": {},
   "outputs": [
    {
     "name": "stdout",
     "output_type": "stream",
     "text": [
      "There are 0 duplicate reviews present in the dataset\n"
     ]
    }
   ],
   "source": [
    "# check duplicate again\n",
    "num_duplicates = data.duplicated().sum() #identify duplicates\n",
    "print('There are {} duplicate reviews present in the dataset'.format(num_duplicates))"
   ]
  },
  {
   "cell_type": "code",
   "execution_count": 12,
   "id": "dental-instrumentation",
   "metadata": {},
   "outputs": [
    {
     "name": "stdout",
     "output_type": "stream",
     "text": [
      "Number of urls in reviews  128\n",
      "Number of html tag in reviews  36\n",
      "Number of mentions in reviews  93\n",
      "Number of hastags in reviews  431\n",
      "Number of digits in reviews  77714\n",
      "Number of digits in reviews  2010994\n"
     ]
    }
   ],
   "source": [
    "# check unnecessary part of reviews, Find if exists and count\n",
    "re_urls = r'http\\S+'\n",
    "re_html = r'<.*?>'\n",
    "re_mentions = r'@\\w+' \n",
    "re_hastags = r'#\\w+'\n",
    "re_digits = r'\\d+'\n",
    "re_punc = r'[^\\w\\s\\d]'\n",
    "\n",
    "print(\"Number of urls in reviews \", data['review'].str.count(re_urls).sum())\n",
    "print(\"Number of html tag in reviews \", data['review'].str.count(re_html).sum())\n",
    "print(\"Number of mentions in reviews \", data['review'].str.count(re_mentions).sum())\n",
    "print(\"Number of hastags in reviews \", data['review'].str.count(re_hastags).sum())\n",
    "print(\"Number of digits in reviews \", data['review'].str.count(re_digits).sum())\n",
    "print(\"Number of digits in reviews \", data['review'].str.count(re_punc).sum())"
   ]
  },
  {
   "cell_type": "code",
   "execution_count": 13,
   "id": "comparable-stephen",
   "metadata": {},
   "outputs": [
    {
     "name": "stdout",
     "output_type": "stream",
     "text": [
      "Before sum :  0\n"
     ]
    }
   ],
   "source": [
    "# unnecessary tags\n",
    "re_tag = '&amp'\n",
    "\n",
    "sum_tag = data['review'].str.contains(re_tag).sum()\n",
    "print(\"Before sum : \", sum_tag)"
   ]
  },
  {
   "cell_type": "code",
   "execution_count": 14,
   "id": "above-cooper",
   "metadata": {},
   "outputs": [],
   "source": [
    "# remove unnecessary words that cannot effect classification\n",
    "def remove_words(text):\n",
    "    #remove urls\n",
    "    text = re.sub(re_urls, '', text)\n",
    "    #remove html\n",
    "    text = re.sub(re_html, '', text)\n",
    "    #remove mentions\n",
    "    text = re.sub(re_mentions,'',text)\n",
    "    #remove hastags\n",
    "    text = re.sub(re_hastags, '', text)\n",
    "    #remove digits\n",
    "    text = re.sub(re_digits, '', text)\n",
    "    #remove punctuaions\n",
    "    text = re.sub(re_punc, '', text)\n",
    "    \n",
    "    return text\n",
    "\n",
    "data['review'] = data['review'].apply(lambda x: remove_words(x))"
   ]
  },
  {
   "cell_type": "code",
   "execution_count": 15,
   "id": "covered-message",
   "metadata": {},
   "outputs": [
    {
     "name": "stdout",
     "output_type": "stream",
     "text": [
      "Number of urls in reviews  0\n",
      "Number of html tag in reviews  0\n",
      "Number of mentions in reviews  0\n",
      "Number of hastags in reviews  0\n",
      "Number of digits in reviews  0\n",
      "Number of digits in reviews  0\n"
     ]
    }
   ],
   "source": [
    "# check again unnecessary part of reviews, Find if exists and count\n",
    "re_urls = r'http\\S+'\n",
    "re_html = r'<.*?>'\n",
    "re_mentions = r'@\\w+' \n",
    "re_hastags = r'#\\w+'\n",
    "re_digits = r'\\d+'\n",
    "re_punc = r'[^\\w\\s\\d]'\n",
    "\n",
    "print(\"Number of urls in reviews \", data['review'].str.count(re_urls).sum())\n",
    "print(\"Number of html tag in reviews \", data['review'].str.count(re_html).sum())\n",
    "print(\"Number of mentions in reviews \", data['review'].str.count(re_mentions).sum())\n",
    "print(\"Number of hastags in reviews \", data['review'].str.count(re_hastags).sum())\n",
    "print(\"Number of digits in reviews \", data['review'].str.count(re_digits).sum())\n",
    "print(\"Number of digits in reviews \", data['review'].str.count(re_punc).sum())"
   ]
  },
  {
   "cell_type": "code",
   "execution_count": 16,
   "id": "lasting-bahrain",
   "metadata": {},
   "outputs": [],
   "source": [
    "#Converting into lower case\n",
    "data['review']=data['review'].str.lower()"
   ]
  },
  {
   "cell_type": "code",
   "execution_count": 17,
   "id": "excessive-works",
   "metadata": {},
   "outputs": [],
   "source": [
    "# stop words cleaning\n",
    "stop_words = set(stopwords.words('english'))\n",
    "\n",
    "def remove_stop_words(text):\n",
    "    word_tokens = word_tokenize(text)\n",
    " \n",
    "    filtered_text = [w for w in word_tokens if not w.lower() in stop_words]\n",
    "\n",
    "    filtered_text = []\n",
    "\n",
    "    for w in word_tokens:\n",
    "        if w not in stop_words:\n",
    "            filtered_text.append(w)\n",
    "            \n",
    "    return \" \".join(filtered_text)\n",
    "    \n",
    "data['review'] = data['review'].apply(lambda x: remove_stop_words(x))"
   ]
  },
  {
   "cell_type": "markdown",
   "id": "disturbed-lending",
   "metadata": {},
   "source": [
    "### SENTIMENT CONTINUE"
   ]
  },
  {
   "cell_type": "code",
   "execution_count": 18,
   "id": "upset-effect",
   "metadata": {},
   "outputs": [],
   "source": [
    "# CHECK COMMON WORDS ON EACH SENTIMENT\n",
    "positive = Counter(\" \".join(data[data['sentiment']== 1]['review']).split()).most_common()\n",
    "negative = Counter(\" \".join(data[data['sentiment']== 0]['review']).split()).most_common()"
   ]
  },
  {
   "cell_type": "code",
   "execution_count": 19,
   "id": "nutritional-hotel",
   "metadata": {},
   "outputs": [
    {
     "data": {
      "text/plain": [
       "<AxesSubplot:title={'center':'POSITIVE SENTIMENT COMMON WORDS'}>"
      ]
     },
     "execution_count": 19,
     "metadata": {},
     "output_type": "execute_result"
    },
    {
     "data": {
      "image/png": "[encoded data removed]",
      "text/plain": [
       "<Figure size 432x288 with 1 Axes>"
      ]
     },
     "metadata": {
      "needs_background": "light"
     },
     "output_type": "display_data"
    }
   ],
   "source": [
    "positive_words = [item[0] for item in positive]\n",
    "positive_counts = [item[1] for item in positive]\n",
    "\n",
    "plt.title(\"POSITIVE SENTIMENT COMMON WORDS\")\n",
    "sns.barplot(x=positive_counts[:20], y=positive_words[:20])"
   ]
  },
  {
   "cell_type": "code",
   "execution_count": 20,
   "id": "gothic-dinner",
   "metadata": {},
   "outputs": [
    {
     "data": {
      "text/plain": [
       "<AxesSubplot:title={'center':'NEGATIVE SENTIMENT COMMON WORDS'}>"
      ]
     },
     "execution_count": 20,
     "metadata": {},
     "output_type": "execute_result"
    },
    {
     "data": {
      "image/png": "[encoded data removed]",
      "text/plain": [
       "<Figure size 432x288 with 1 Axes>"
      ]
     },
     "metadata": {
      "needs_background": "light"
     },
     "output_type": "display_data"
    }
   ],
   "source": [
    "negative_words = [item[0] for item in negative]\n",
    "negative_counts = [item[1] for item in negative]\n",
    "\n",
    "plt.title(\"NEGATIVE SENTIMENT COMMON WORDS\")\n",
    "sns.barplot(x=negative_counts[:20], y=negative_words[:20])"
   ]
  },
  {
   "cell_type": "markdown",
   "id": "engaged-greenhouse",
   "metadata": {},
   "source": [
    "### BASIC MODELS OF ML"
   ]
  },
  {
   "cell_type": "code",
   "execution_count": 21,
   "id": "falling-daniel",
   "metadata": {},
   "outputs": [],
   "source": [
    "#splitting into train and test\n",
    "X = data.drop(['sentiment'], axis = 1)\n",
    "y = data.sentiment\n",
    "\n",
    "train, test= train_test_split(data, test_size=0.3, random_state=4)\n",
    "X_train, y_train = train['review'], train['sentiment']\n",
    "X_test, y_test = test['review'], test['sentiment']"
   ]
  },
  {
   "cell_type": "code",
   "execution_count": 22,
   "id": "hourly-recipient",
   "metadata": {},
   "outputs": [],
   "source": [
    "#Vectorizing data\n",
    "\n",
    "tfidf_vect = TfidfVectorizer() #tfidfVectorizer\n",
    "X_train_tfidf = tfidf_vect.fit_transform(X_train)\n",
    "X_test_tfidf = tfidf_vect.transform(X_test)\n",
    "\n",
    "\n",
    "count_vect = CountVectorizer() # CountVectorizer\n",
    "X_train_count = count_vect.fit_transform(X_train)\n",
    "X_test_count = count_vect.transform(X_test)"
   ]
  },
  {
   "cell_type": "markdown",
   "id": "standing-handbook",
   "metadata": {},
   "source": [
    "#### XGBoost Classification"
   ]
  },
  {
   "cell_type": "code",
   "execution_count": 43,
   "id": "ideal-atlas",
   "metadata": {
    "scrolled": false
   },
   "outputs": [
    {
     "name": "stderr",
     "output_type": "stream",
     "text": [
      "C:\\Users\\burak\\AppData\\Roaming\\Python\\Python39\\site-packages\\xgboost\\sklearn.py:1146: UserWarning: The use of label encoder in XGBClassifier is deprecated and will be removed in a future release. To remove this warning, do the following: 1) Pass option use_label_encoder=False when constructing XGBClassifier object; and 2) Encode your labels (y) as integers starting with 0, i.e. 0, 1, 2, ..., [num_class - 1].\n",
      "  warnings.warn(label_encoder_deprecation_msg, UserWarning)\n"
     ]
    },
    {
     "name": "stdout",
     "output_type": "stream",
     "text": [
      "[22:46:11] WARNING: C:/Users/Administrator/workspace/xgboost-win64_release_1.4.0/src/learner.cc:1095: Starting in XGBoost 1.3.0, the default evaluation metric used with the objective 'binary:logistic' was changed from 'error' to 'logloss'. Explicitly set eval_metric if you'd like to restore the old behavior.\n",
      "Accuracy :  0.8700504201680672\n"
     ]
    },
    {
     "name": "stderr",
     "output_type": "stream",
     "text": [
      "C:\\Users\\burak\\AppData\\Roaming\\Python\\Python39\\site-packages\\sklearn\\utils\\deprecation.py:87: FutureWarning: Function plot_confusion_matrix is deprecated; Function `plot_confusion_matrix` is deprecated in 1.0 and will be removed in 1.2. Use one of the class methods: ConfusionMatrixDisplay.from_predictions or ConfusionMatrixDisplay.from_estimator.\n",
      "  warnings.warn(msg, category=FutureWarning)\n"
     ]
    },
    {
     "data": {
      "image/png": "[encoded data removed]",
      "text/plain": [
       "<Figure size 432x288 with 2 Axes>"
      ]
     },
     "metadata": {
      "needs_background": "light"
     },
     "output_type": "display_data"
    }
   ],
   "source": [
    "xgb_model = XGBClassifier(n_estimators=1000, learning_rate=0.05, max_depth = 10)\n",
    "xgb_model.fit(X_train_tfidf, y_train)\n",
    "xgb_pred = xgb_model.predict(X_test_tfidf)\n",
    "xgb_acc = accuracy_score(y_test, xgb_pred.round())\n",
    "print(\"Accuracy : \", xgb_acc)\n",
    "plot_confusion_matrix(xgb_model, X_test_tfidf, y_test, cmap = 'Blues')\n",
    "plt.grid(False)"
   ]
  },
  {
   "cell_type": "markdown",
   "id": "selected-initial",
   "metadata": {},
   "source": [
    "#### Logistic Regression"
   ]
  },
  {
   "cell_type": "code",
   "execution_count": 44,
   "id": "persistent-rover",
   "metadata": {},
   "outputs": [
    {
     "name": "stdout",
     "output_type": "stream",
     "text": [
      "Accuracy :  0.8918991596638656\n"
     ]
    },
    {
     "name": "stderr",
     "output_type": "stream",
     "text": [
      "C:\\Users\\burak\\AppData\\Roaming\\Python\\Python39\\site-packages\\sklearn\\utils\\deprecation.py:87: FutureWarning: Function plot_confusion_matrix is deprecated; Function `plot_confusion_matrix` is deprecated in 1.0 and will be removed in 1.2. Use one of the class methods: ConfusionMatrixDisplay.from_predictions or ConfusionMatrixDisplay.from_estimator.\n",
      "  warnings.warn(msg, category=FutureWarning)\n"
     ]
    },
    {
     "data": {
      "image/png": "[encoded data removed]",
      "text/plain": [
       "<Figure size 432x288 with 2 Axes>"
      ]
     },
     "metadata": {
      "needs_background": "light"
     },
     "output_type": "display_data"
    }
   ],
   "source": [
    "log_model = LogisticRegression()\n",
    "log_model.fit(X_train_tfidf, y_train)\n",
    "log_pred = log_model.predict(X_test_tfidf)\n",
    "log_acc = accuracy_score(y_test, log_pred.round())\n",
    "print(\"Accuracy : \", log_acc)\n",
    "plot_confusion_matrix(log_model, X_test_tfidf, y_test, cmap = 'Blues')\n",
    "plt.grid(False)"
   ]
  },
  {
   "cell_type": "markdown",
   "id": "collective-payment",
   "metadata": {},
   "source": [
    "#### Multinomial Naive Bayes"
   ]
  },
  {
   "cell_type": "code",
   "execution_count": 45,
   "id": "norwegian-scheme",
   "metadata": {},
   "outputs": [
    {
     "name": "stdout",
     "output_type": "stream",
     "text": [
      "Accuracy :  0.8646050420168068\n"
     ]
    },
    {
     "name": "stderr",
     "output_type": "stream",
     "text": [
      "C:\\Users\\burak\\AppData\\Roaming\\Python\\Python39\\site-packages\\sklearn\\utils\\deprecation.py:87: FutureWarning: Function plot_confusion_matrix is deprecated; Function `plot_confusion_matrix` is deprecated in 1.0 and will be removed in 1.2. Use one of the class methods: ConfusionMatrixDisplay.from_predictions or ConfusionMatrixDisplay.from_estimator.\n",
      "  warnings.warn(msg, category=FutureWarning)\n"
     ]
    },
    {
     "data": {
      "image/png": "[encoded data removed]",
      "text/plain": [
       "<Figure size 432x288 with 2 Axes>"
      ]
     },
     "metadata": {
      "needs_background": "light"
     },
     "output_type": "display_data"
    }
   ],
   "source": [
    "mnb_model = MultinomialNB()\n",
    "mnb_model.fit(X_train_tfidf, y_train)\n",
    "mnb_pred = mnb_model.predict(X_test_tfidf)\n",
    "mnb_acc = accuracy_score(y_test, mnb_pred.round())\n",
    "print(\"Accuracy : \", mnb_acc)\n",
    "plot_confusion_matrix(mnb_model, X_test_tfidf, y_test, cmap = 'Blues')\n",
    "plt.grid(False)"
   ]
  },
  {
   "cell_type": "markdown",
   "id": "administrative-bowling",
   "metadata": {},
   "source": [
    "#### Linear SVM"
   ]
  },
  {
   "cell_type": "code",
   "execution_count": 46,
   "id": "armed-milwaukee",
   "metadata": {},
   "outputs": [
    {
     "name": "stdout",
     "output_type": "stream",
     "text": [
      "Accuracy :  0.8919663865546219\n"
     ]
    },
    {
     "name": "stderr",
     "output_type": "stream",
     "text": [
      "C:\\Users\\burak\\AppData\\Roaming\\Python\\Python39\\site-packages\\sklearn\\utils\\deprecation.py:87: FutureWarning: Function plot_confusion_matrix is deprecated; Function `plot_confusion_matrix` is deprecated in 1.0 and will be removed in 1.2. Use one of the class methods: ConfusionMatrixDisplay.from_predictions or ConfusionMatrixDisplay.from_estimator.\n",
      "  warnings.warn(msg, category=FutureWarning)\n"
     ]
    },
    {
     "data": {
      "image/png": "[encoded data removed]",
      "text/plain": [
       "<Figure size 432x288 with 2 Axes>"
      ]
     },
     "metadata": {
      "needs_background": "light"
     },
     "output_type": "display_data"
    }
   ],
   "source": [
    "svm_model = LinearSVC()\n",
    "svm_model.fit(X_train_tfidf, y_train)\n",
    "svm_pred = svm_model.predict(X_test_tfidf)\n",
    "svm_acc = accuracy_score(y_test, svm_pred.round())\n",
    "print(\"Accuracy : \", svm_acc)\n",
    "plot_confusion_matrix(svm_model, X_test_tfidf, y_test, cmap = 'Blues')\n",
    "plt.grid(False)"
   ]
  },
  {
   "cell_type": "markdown",
   "id": "outdoor-factory",
   "metadata": {},
   "source": [
    "#### Compare Scores"
   ]
  },
  {
   "cell_type": "code",
   "execution_count": 47,
   "id": "suitable-table",
   "metadata": {},
   "outputs": [
    {
     "data": {
      "text/html": [
       "<div>\n",
       "<style scoped>\n",
       "    .dataframe tbody tr th:only-of-type {\n",
       "        vertical-align: middle;\n",
       "    }\n",
       "\n",
       "    .dataframe tbody tr th {\n",
       "        vertical-align: top;\n",
       "    }\n",
       "\n",
       "    .dataframe thead th {\n",
       "        text-align: right;\n",
       "    }\n",
       "</style>\n",
       "<table border=\"1\" class=\"dataframe\">\n",
       "  <thead>\n",
       "    <tr style=\"text-align: right;\">\n",
       "      <th></th>\n",
       "      <th>Model</th>\n",
       "      <th>Accuracy</th>\n",
       "    </tr>\n",
       "  </thead>\n",
       "  <tbody>\n",
       "    <tr>\n",
       "      <th>0</th>\n",
       "      <td>XGBoost</td>\n",
       "      <td>0.87005</td>\n",
       "    </tr>\n",
       "    <tr>\n",
       "      <th>1</th>\n",
       "      <td>Logistic Regression</td>\n",
       "      <td>0.891899</td>\n",
       "    </tr>\n",
       "    <tr>\n",
       "      <th>2</th>\n",
       "      <td>Multinomial Naive Bayes</td>\n",
       "      <td>0.864605</td>\n",
       "    </tr>\n",
       "    <tr>\n",
       "      <th>3</th>\n",
       "      <td>Linear Support Vector</td>\n",
       "      <td>0.891966</td>\n",
       "    </tr>\n",
       "  </tbody>\n",
       "</table>\n",
       "</div>"
      ],
      "text/plain": [
       "                     Model  Accuracy\n",
       "0                  XGBoost   0.87005\n",
       "1      Logistic Regression  0.891899\n",
       "2  Multinomial Naive Bayes  0.864605\n",
       "3    Linear Support Vector  0.891966"
      ]
     },
     "execution_count": 47,
     "metadata": {},
     "output_type": "execute_result"
    }
   ],
   "source": [
    "model_scores = [xgb_acc, log_acc,\n",
    "                mnb_acc, svm_acc]\n",
    "\n",
    "model_names = ['XGBoost', 'Logistic Regression', \n",
    "               'Multinomial Naive Bayes', 'Linear Support Vector']\n",
    "\n",
    "evaluate = pd.DataFrame(columns=[\"Model\",\"Accuracy\"])\n",
    "\n",
    "for name, score in zip(model_names,model_scores):\n",
    "    row = evaluate.shape[0]\n",
    "    evaluate.loc[row,\"Model\"] = name\n",
    "    evaluate.loc[row,\"Accuracy\"] = score\n",
    "\n",
    "evaluate"
   ]
  },
  {
   "cell_type": "code",
   "execution_count": 55,
   "id": "optimum-victim",
   "metadata": {},
   "outputs": [
    {
     "name": "stderr",
     "output_type": "stream",
     "text": [
      "C:\\Users\\burak\\AppData\\Roaming\\Python\\Python39\\site-packages\\seaborn\\_decorators.py:36: FutureWarning: Pass the following variables as keyword args: x, y. From version 0.12, the only valid positional argument will be `data`, and passing other arguments without an explicit keyword will result in an error or misinterpretation.\n",
      "  warnings.warn(\n"
     ]
    },
    {
     "data": {
      "text/plain": [
       "[Text(0, 0, 'XGBoost'),\n",
       " Text(1, 0, 'Logistic Regression'),\n",
       " Text(2, 0, 'Multinomial Naive Bayes'),\n",
       " Text(3, 0, 'Linear Support Vector')]"
      ]
     },
     "execution_count": 55,
     "metadata": {},
     "output_type": "execute_result"
    },
    {
     "data": {
      "image/png": "[encoded data removed]",
      "text/plain": [
       "<Figure size 1152x648 with 1 Axes>"
      ]
     },
     "metadata": {
      "needs_background": "light"
     },
     "output_type": "display_data"
    }
   ],
   "source": [
    "## Visualization\n",
    "fig, ax = plt.subplots(figsize=(16,9))\n",
    "\n",
    "## Encoded dataset\n",
    "bar = sns.barplot(evaluate[\"Model\"], evaluate[\"Accuracy\"])\n",
    "for rec in bar.patches:\n",
    "    height = rec.get_height()\n",
    "    ax.text(rec.get_x() + rec.get_width()/2, height*1.02,height,ha=\"center\")\n",
    "ax.set_title(\"Accuracy Score\")\n",
    "ax.set_xticklabels(evaluate[\"Model\"].to_list(),rotation =25)"
   ]
  },
  {
   "cell_type": "markdown",
   "id": "meaningful-china",
   "metadata": {},
   "source": [
    "Seems almost same when we see accuracy scores of each model"
   ]
  },
  {
   "cell_type": "code",
   "execution_count": null,
   "id": "mental-atlantic",
   "metadata": {},
   "outputs": [],
   "source": []
  },
  {
   "cell_type": "code",
   "execution_count": null,
   "id": "attended-perfume",
   "metadata": {},
   "outputs": [],
   "source": []
  }
 ],
 "metadata": {
  "kernelspec": {
   "display_name": "Python 3",
   "language": "python",
   "name": "python3"
  },
  "language_info": {
   "codemirror_mode": {
    "name": "ipython",
    "version": 3
   },
   "file_extension": ".py",
   "mimetype": "text/x-python",
   "name": "python",
   "nbconvert_exporter": "python",
   "pygments_lexer": "ipython3",
   "version": "3.9.2"
  }
 },
 "nbformat": 4,
 "nbformat_minor": 5
}
