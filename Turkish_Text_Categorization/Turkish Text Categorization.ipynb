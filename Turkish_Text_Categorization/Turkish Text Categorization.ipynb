{
 "cells": [
  {
   "cell_type": "markdown",
   "id": "human-fossil",
   "metadata": {},
   "source": [
    "In this notebook, we are going to categorize reviews"
   ]
  },
  {
   "cell_type": "code",
   "execution_count": 1,
   "id": "monetary-palestine",
   "metadata": {},
   "outputs": [],
   "source": [
    "import pandas as pd\n",
    "import tensorflow as tf\n",
    "import torch\n",
    "import numpy as np\n",
    "import time\n",
    "import datetime\n",
    "import random\n",
    "import seaborn as sns\n",
    "import matplotlib.pyplot as plt\n",
    "%matplotlib inline\n",
    "\n",
    "import re\n",
    "import string\n",
    "import nltk\n",
    "from nltk.corpus import stopwords\n",
    "from nltk import sent_tokenize, word_tokenize\n",
    "from nltk.stem.porter import *\n",
    "from nltk.stem import PorterStemmer\n",
    "from snowballstemmer import TurkishStemmer\n",
    "\n",
    "import jpype\n",
    "from typing import List\n",
    "from jpype import JClass, JString, getDefaultJVMPath, shutdownJVM, startJVM, java\n",
    "\n",
    "import transformers\n",
    "from transformers import BertTokenizer\n",
    "from torch.utils.data import TensorDataset, random_split, DataLoader, RandomSampler, SequentialSampler\n",
    "from transformers import BertForSequenceClassification, AdamW, BertConfig\n",
    "from transformers import get_linear_schedule_with_warmup\n",
    "\n",
    "from sklearn.metrics import f1_score, recall_score, precision_score, classification_report\n",
    "from sklearn.preprocessing import LabelEncoder"
   ]
  },
  {
   "cell_type": "code",
   "execution_count": 2,
   "id": "diverse-green",
   "metadata": {},
   "outputs": [
    {
     "data": {
      "text/html": [
       "<div>\n",
       "<style scoped>\n",
       "    .dataframe tbody tr th:only-of-type {\n",
       "        vertical-align: middle;\n",
       "    }\n",
       "\n",
       "    .dataframe tbody tr th {\n",
       "        vertical-align: top;\n",
       "    }\n",
       "\n",
       "    .dataframe thead th {\n",
       "        text-align: right;\n",
       "    }\n",
       "</style>\n",
       "<table border=\"1\" class=\"dataframe\">\n",
       "  <thead>\n",
       "    <tr style=\"text-align: right;\">\n",
       "      <th></th>\n",
       "      <th>category</th>\n",
       "      <th>text</th>\n",
       "    </tr>\n",
       "  </thead>\n",
       "  <tbody>\n",
       "    <tr>\n",
       "      <th>0</th>\n",
       "      <td>siyaset</td>\n",
       "      <td>3 milyon ile ön seçim vaadi mhp nin 10 olağan...</td>\n",
       "    </tr>\n",
       "    <tr>\n",
       "      <th>1</th>\n",
       "      <td>siyaset</td>\n",
       "      <td>mesut_yılmaz yüce_divan da ceza alabilirdi pr...</td>\n",
       "    </tr>\n",
       "    <tr>\n",
       "      <th>2</th>\n",
       "      <td>siyaset</td>\n",
       "      <td>disko lar kaldırılıyor başbakan_yardımcısı ar...</td>\n",
       "    </tr>\n",
       "    <tr>\n",
       "      <th>3</th>\n",
       "      <td>siyaset</td>\n",
       "      <td>sarıgül anayasa_mahkemesi ne gidiyor mustafa_...</td>\n",
       "    </tr>\n",
       "    <tr>\n",
       "      <th>4</th>\n",
       "      <td>siyaset</td>\n",
       "      <td>erdoğan idamın bir haklılık sebebi var demek ...</td>\n",
       "    </tr>\n",
       "  </tbody>\n",
       "</table>\n",
       "</div>"
      ],
      "text/plain": [
       "   category                                               text\n",
       "0  siyaset    3 milyon ile ön seçim vaadi mhp nin 10 olağan...\n",
       "1  siyaset    mesut_yılmaz yüce_divan da ceza alabilirdi pr...\n",
       "2  siyaset    disko lar kaldırılıyor başbakan_yardımcısı ar...\n",
       "3  siyaset    sarıgül anayasa_mahkemesi ne gidiyor mustafa_...\n",
       "4  siyaset    erdoğan idamın bir haklılık sebebi var demek ..."
      ]
     },
     "execution_count": 2,
     "metadata": {},
     "output_type": "execute_result"
    }
   ],
   "source": [
    "data = pd.read_csv('7allV03.csv')\n",
    "data.head()"
   ]
  },
  {
   "cell_type": "markdown",
   "id": "organic-sword",
   "metadata": {},
   "source": [
    "#### Quick Overview of Data"
   ]
  },
  {
   "cell_type": "code",
   "execution_count": 3,
   "id": "french-herald",
   "metadata": {},
   "outputs": [
    {
     "name": "stdout",
     "output_type": "stream",
     "text": [
      "<class 'pandas.core.frame.DataFrame'>\n",
      "RangeIndex: 4900 entries, 0 to 4899\n",
      "Data columns (total 2 columns):\n",
      " #   Column    Non-Null Count  Dtype \n",
      "---  ------    --------------  ----- \n",
      " 0   category  4900 non-null   object\n",
      " 1   text      4900 non-null   object\n",
      "dtypes: object(2)\n",
      "memory usage: 76.7+ KB\n"
     ]
    }
   ],
   "source": [
    "data.info()"
   ]
  },
  {
   "cell_type": "code",
   "execution_count": 4,
   "id": "competitive-reform",
   "metadata": {},
   "outputs": [
    {
     "data": {
      "text/plain": [
       "siyaset       700\n",
       "dunya         700\n",
       "ekonomi       700\n",
       "kultur        700\n",
       "saglik        700\n",
       "spor          700\n",
       "teknoloji     700\n",
       "Name: category, dtype: int64"
      ]
     },
     "execution_count": 4,
     "metadata": {},
     "output_type": "execute_result"
    }
   ],
   "source": [
    "data['category'].value_counts()"
   ]
  },
  {
   "cell_type": "code",
   "execution_count": 5,
   "id": "ahead-compensation",
   "metadata": {},
   "outputs": [
    {
     "name": "stdout",
     "output_type": "stream",
     "text": [
      "There are 7 categories\n"
     ]
    }
   ],
   "source": [
    "print('There are', len(data['category'].value_counts()), 'categories')"
   ]
  },
  {
   "cell_type": "code",
   "execution_count": 6,
   "id": "retained-definition",
   "metadata": {},
   "outputs": [
    {
     "name": "stderr",
     "output_type": "stream",
     "text": [
      "C:\\Users\\burak\\AppData\\Roaming\\Python\\Python39\\site-packages\\seaborn\\_decorators.py:36: FutureWarning: Pass the following variable as a keyword arg: x. From version 0.12, the only valid positional argument will be `data`, and passing other arguments without an explicit keyword will result in an error or misinterpretation.\n",
      "  warnings.warn(\n"
     ]
    },
    {
     "data": {
      "text/plain": [
       "<AxesSubplot:xlabel='category', ylabel='count'>"
      ]
     },
     "execution_count": 6,
     "metadata": {},
     "output_type": "execute_result"
    },
    {
     "data": {
      "image/png": "[encoded data removed]",
      "text/plain": [
       "<Figure size 432x288 with 1 Axes>"
      ]
     },
     "metadata": {
      "needs_background": "light"
     },
     "output_type": "display_data"
    }
   ],
   "source": [
    "sns.countplot(data['category'])"
   ]
  },
  {
   "cell_type": "markdown",
   "id": "historic-forum",
   "metadata": {},
   "source": [
    "## Preprocess"
   ]
  },
  {
   "cell_type": "markdown",
   "id": "virtual-marriage",
   "metadata": {},
   "source": [
    "#### Data cleaning\n",
    "\n",
    "-> Removing of punctuations, numbers, stopwords, urls etc.\n",
    "\n",
    "-> Converting uppercase to lower\n",
    "\n",
    "-> Tokenization\n",
    "\n",
    "-> Lemmatization or Stemming"
   ]
  },
  {
   "cell_type": "markdown",
   "id": "noticed-victor",
   "metadata": {},
   "source": [
    "#### SENTENCE TOKENIZATION"
   ]
  },
  {
   "cell_type": "code",
   "execution_count": 7,
   "id": "incorporate-routine",
   "metadata": {},
   "outputs": [
    {
     "data": {
      "text/html": [
       "<div>\n",
       "<style scoped>\n",
       "    .dataframe tbody tr th:only-of-type {\n",
       "        vertical-align: middle;\n",
       "    }\n",
       "\n",
       "    .dataframe tbody tr th {\n",
       "        vertical-align: top;\n",
       "    }\n",
       "\n",
       "    .dataframe thead th {\n",
       "        text-align: right;\n",
       "    }\n",
       "</style>\n",
       "<table border=\"1\" class=\"dataframe\">\n",
       "  <thead>\n",
       "    <tr style=\"text-align: right;\">\n",
       "      <th></th>\n",
       "      <th>category</th>\n",
       "      <th>text</th>\n",
       "      <th>text_sentence_count</th>\n",
       "    </tr>\n",
       "  </thead>\n",
       "  <tbody>\n",
       "    <tr>\n",
       "      <th>0</th>\n",
       "      <td>siyaset</td>\n",
       "      <td>3 milyon ile ön seçim vaadi mhp nin 10 olağan...</td>\n",
       "      <td>1</td>\n",
       "    </tr>\n",
       "    <tr>\n",
       "      <th>1</th>\n",
       "      <td>siyaset</td>\n",
       "      <td>mesut_yılmaz yüce_divan da ceza alabilirdi pr...</td>\n",
       "      <td>1</td>\n",
       "    </tr>\n",
       "    <tr>\n",
       "      <th>2</th>\n",
       "      <td>siyaset</td>\n",
       "      <td>disko lar kaldırılıyor başbakan_yardımcısı ar...</td>\n",
       "      <td>1</td>\n",
       "    </tr>\n",
       "    <tr>\n",
       "      <th>3</th>\n",
       "      <td>siyaset</td>\n",
       "      <td>sarıgül anayasa_mahkemesi ne gidiyor mustafa_...</td>\n",
       "      <td>1</td>\n",
       "    </tr>\n",
       "    <tr>\n",
       "      <th>4</th>\n",
       "      <td>siyaset</td>\n",
       "      <td>erdoğan idamın bir haklılık sebebi var demek ...</td>\n",
       "      <td>1</td>\n",
       "    </tr>\n",
       "  </tbody>\n",
       "</table>\n",
       "</div>"
      ],
      "text/plain": [
       "   category                                               text  \\\n",
       "0  siyaset    3 milyon ile ön seçim vaadi mhp nin 10 olağan...   \n",
       "1  siyaset    mesut_yılmaz yüce_divan da ceza alabilirdi pr...   \n",
       "2  siyaset    disko lar kaldırılıyor başbakan_yardımcısı ar...   \n",
       "3  siyaset    sarıgül anayasa_mahkemesi ne gidiyor mustafa_...   \n",
       "4  siyaset    erdoğan idamın bir haklılık sebebi var demek ...   \n",
       "\n",
       "   text_sentence_count  \n",
       "0                    1  \n",
       "1                    1  \n",
       "2                    1  \n",
       "3                    1  \n",
       "4                    1  "
      ]
     },
     "execution_count": 7,
     "metadata": {},
     "output_type": "execute_result"
    }
   ],
   "source": [
    "data['text_sentence_count'] = data['text'].apply(sent_tokenize).tolist()\n",
    "data['text_sentence_count'] = data['text_sentence_count'].apply(len)\n",
    "data.head()"
   ]
  },
  {
   "cell_type": "code",
   "execution_count": 8,
   "id": "stainless-newcastle",
   "metadata": {},
   "outputs": [
    {
     "data": {
      "text/plain": [
       "1     4349\n",
       "2      434\n",
       "3       70\n",
       "4       18\n",
       "5       16\n",
       "6        5\n",
       "22       2\n",
       "7        2\n",
       "23       1\n",
       "8        1\n",
       "10       1\n",
       "12       1\n",
       "Name: text_sentence_count, dtype: int64"
      ]
     },
     "execution_count": 8,
     "metadata": {},
     "output_type": "execute_result"
    }
   ],
   "source": [
    "data['text_sentence_count'].value_counts()"
   ]
  },
  {
   "cell_type": "code",
   "execution_count": 9,
   "id": "breathing-fortune",
   "metadata": {},
   "outputs": [],
   "source": [
    "# There is mostly no punctuations to end of the sentences, so remove that column.\n",
    "data.drop('text_sentence_count', axis=1, inplace=True)"
   ]
  },
  {
   "cell_type": "markdown",
   "id": "complicated-overhead",
   "metadata": {},
   "source": [
    "#### REMOVE UNNECESSARY CHARACTERS"
   ]
  },
  {
   "cell_type": "code",
   "execution_count": 10,
   "id": "composed-oracle",
   "metadata": {},
   "outputs": [
    {
     "name": "stdout",
     "output_type": "stream",
     "text": [
      "['acaba', 'ama', 'aslında', 'az', 'bazı', 'belki', 'biri', 'birkaç', 'birşey', 'biz', 'bu', 'çok', 'çünkü', 'da', 'daha', 'de', 'defa', 'diye', 'eğer', 'en', 'gibi', 'hem', 'hep', 'hepsi', 'her', 'hiç', 'için', 'ile', 'ise', 'kez', 'ki', 'kim', 'mı', 'mu', 'mü', 'nasıl', 'ne', 'neden', 'nerde', 'nerede', 'nereye', 'niçin', 'niye', 'o', 'sanki', 'şey', 'siz', 'şu', 'tüm', 've', 'veya', 'ya', 'yani', 'a', 'acaba', 'altÄ±', 'altmÄ±ÅŸ', 'ama', 'ancak', 'arada', 'artÄ±k', 'asla', 'aslÄ±nda', 'aslÄ±nda', 'ayrÄ±ca', 'az', 'bana', 'bazen', 'bazÄ±', 'bazÄ±larÄ±', 'belki', 'ben', 'benden', 'beni', 'benim', 'beri', 'beÅŸ', 'bile', 'bilhassa', 'bin', 'bir', 'biraz', 'birÃ§oÄŸu', 'birÃ§ok', 'biri', 'birisi', 'birkaÃ§', 'birÅŸey', 'biz', 'bizden', 'bize', 'bizi', 'bizim', 'bÃ¶yle', 'bÃ¶ylece', 'bu', 'buna', 'bunda', 'bundan', 'bunlar', 'bunlarÄ±', 'bunlarÄ±n', 'bunu', 'bunun', 'burada', 'bÃ¼tÃ¼n', 'Ã§oÄŸu', 'Ã§oÄŸunu', 'Ã§ok', 'Ã§Ã¼nkÃ¼', 'da', 'daha', 'dahi', 'dan', 'de', 'defa', 'deÄŸil', 'diÄŸer', 'diÄŸeri', 'diÄŸerleri', 'diye', 'doksan', 'dokuz', 'dolayÄ±', 'dolayÄ±sÄ±yla', 'dÃ¶rt', 'e', 'edecek', 'eden', 'ederek', 'edilecek', 'ediliyor', 'edilmesi', 'ediyor', 'eÄŸer', 'elbette', 'elli', 'en', 'etmesi', 'etti', 'ettiÄŸi', 'ettiÄŸini', 'fakat', 'falan', 'filan', 'gene', 'gereÄŸi', 'gerek', 'gibi', 'gÃ¶re', 'hala', 'halde', 'halen', 'hangi', 'hangisi', 'hani', 'hatta', 'hem', 'henÃ¼z', 'hep', 'hepsi', 'her', 'herhangi', 'herkes', 'herkese', 'herkesi', 'herkesin', 'hiÃ§', 'hiÃ§bir', 'hiÃ§biri', 'i', 'Ä±', 'iÃ§in', 'iÃ§inde', 'iki', 'ile', 'ilgili', 'ise', 'iÅŸte', 'itibaren', 'itibariyle', 'kaÃ§', 'kadar', 'karÅŸÄ±n', 'kendi', 'kendilerine', 'kendine', 'kendini', 'kendisi', 'kendisine', 'kendisini', 'kez', 'ki', 'kim', 'kime', 'kimi', 'kimin', 'kimisi', 'kimse', 'kÄ±rk', 'madem', 'mi', 'mÄ±', 'milyar', 'milyon', 'mu', 'mÃ¼', 'nasÄ±l', 'ne', 'neden', 'nedenle', 'nerde', 'nerede', 'nereye', 'neyse', 'niÃ§in', 'nin', 'nÄ±n', 'niye', 'nun', 'nÃ¼n', 'o', 'Ã¶bÃ¼r', 'olan', 'olarak', 'oldu', 'olduÄŸu', 'olduÄŸunu', 'olduklarÄ±nÄ±', 'olmadÄ±', 'olmadÄ±ÄŸÄ±', 'olmak', 'olmasÄ±', 'olmayan', 'olmaz', 'olsa', 'olsun', 'olup', 'olur', 'olur', 'olursa', 'oluyor', 'on', 'Ã¶n', 'ona', 'Ã¶nce', 'ondan', 'onlar', 'onlara', 'onlardan', 'onlarÄ±', 'onlarÄ±n', 'onu', 'onun', 'orada', 'Ã¶te', 'Ã¶tÃ¼rÃ¼', 'otuz', 'Ã¶yle', 'oysa', 'pek', 'raÄŸmen', 'sana', 'sanki', 'sanki', 'ÅŸayet', 'ÅŸekilde', 'sekiz', 'seksen', 'sen', 'senden', 'seni', 'senin', 'ÅŸey', 'ÅŸeyden', 'ÅŸeye', 'ÅŸeyi', 'ÅŸeyler', 'ÅŸimdi', 'siz', 'siz', 'sizden', 'sizden', 'size', 'sizi', 'sizi', 'sizin', 'sizin', 'sonra', 'ÅŸÃ¶yle', 'ÅŸu', 'ÅŸuna', 'ÅŸunlarÄ±', 'ÅŸunu', 'ta', 'tabii', 'tam', 'tamam', 'tamamen', 'tarafÄ±ndan', 'trilyon', 'tÃ¼m', 'tÃ¼mÃ¼', 'u', 'Ã¼', 'Ã¼Ã§', 'un', 'Ã¼n', 'Ã¼zere', 'var', 'vardÄ±', 've', 'veya', 'ya', 'yani', 'yapacak', 'yapÄ±lan', 'yapÄ±lmasÄ±', 'yapÄ±yor', 'yapmak', 'yaptÄ±', 'yaptÄ±ÄŸÄ±', 'yaptÄ±ÄŸÄ±nÄ±', 'yaptÄ±klarÄ±', 'ye', 'yedi', 'yerine', 'yetmiÅŸ', 'yi', 'yÄ±', 'yine', 'yirmi', 'yoksa', 'yu', 'yÃ¼z', 'zaten', 'zira', 'zxtest']\n"
     ]
    }
   ],
   "source": [
    "# create a set of stopwords\n",
    "stopwords_set = stopwords.words('turkish')\n",
    "for line in open('turkish_stopwords.txt','r').readlines():\n",
    "    stopwords_set.append(line.strip())\n",
    "    \n",
    "print(stopwords_set)"
   ]
  },
  {
   "cell_type": "code",
   "execution_count": 11,
   "id": "persistent-detection",
   "metadata": {},
   "outputs": [
    {
     "data": {
      "text/plain": [
       "'!\"#$%&\\'()*+,-./:;<=>?@[\\\\]^_`{|}~'"
      ]
     },
     "execution_count": 11,
     "metadata": {},
     "output_type": "execute_result"
    }
   ],
   "source": [
    "# create a set of punctuations\n",
    "punctuation_set = string.punctuation\n",
    "punctuation_set"
   ]
  },
  {
   "cell_type": "code",
   "execution_count": 12,
   "id": "human-asbestos",
   "metadata": {},
   "outputs": [
    {
     "name": "stdout",
     "output_type": "stream",
     "text": [
      "Number of urls in tweets  6\n",
      "Number of html tag in tweets  1\n",
      "Number of digits in tweets  49168\n"
     ]
    }
   ],
   "source": [
    "# Check has some unnecessary words. Find if exists and count\n",
    "re_urls = r'http\\S+'\n",
    "re_html = r'<.*?>'\n",
    "re_digits = r'\\d+'\n",
    "\n",
    "print(\"Number of urls in tweets \", data['text'].str.count(re_urls).sum())\n",
    "print(\"Number of html tag in tweets \", data['text'].str.count(re_html).sum())\n",
    "print(\"Number of digits in tweets \", data['text'].str.count(re_digits).sum())"
   ]
  },
  {
   "cell_type": "code",
   "execution_count": 13,
   "id": "strong-bench",
   "metadata": {},
   "outputs": [],
   "source": [
    "def clean(text):\n",
    "    #lowercase operation\n",
    "    text = text.lower()\n",
    "    #remove urls\n",
    "    text = re.sub(re_urls, '', text)\n",
    "    #remove html\n",
    "    text = re.sub(re_html, '', text)\n",
    "    #remove digits\n",
    "    text = re.sub(re_digits, '', text)\n",
    "    #remove stop words \n",
    "    text = text.split()\n",
    "    text = ' '.join([word for word in text if not word in stopwords_set])\n",
    "    \n",
    "    return text"
   ]
  },
  {
   "cell_type": "code",
   "execution_count": 14,
   "id": "imposed-assist",
   "metadata": {},
   "outputs": [],
   "source": [
    "def remove_punctuations(text):\n",
    "    for punctuation in punctuation_set:\n",
    "        text = text.replace(punctuation, ' ')\n",
    "    return text"
   ]
  },
  {
   "cell_type": "code",
   "execution_count": 15,
   "id": "measured-today",
   "metadata": {},
   "outputs": [
    {
     "data": {
      "text/html": [
       "<div>\n",
       "<style scoped>\n",
       "    .dataframe tbody tr th:only-of-type {\n",
       "        vertical-align: middle;\n",
       "    }\n",
       "\n",
       "    .dataframe tbody tr th {\n",
       "        vertical-align: top;\n",
       "    }\n",
       "\n",
       "    .dataframe thead th {\n",
       "        text-align: right;\n",
       "    }\n",
       "</style>\n",
       "<table border=\"1\" class=\"dataframe\">\n",
       "  <thead>\n",
       "    <tr style=\"text-align: right;\">\n",
       "      <th></th>\n",
       "      <th>category</th>\n",
       "      <th>text</th>\n",
       "      <th>cleaned_text</th>\n",
       "    </tr>\n",
       "  </thead>\n",
       "  <tbody>\n",
       "    <tr>\n",
       "      <th>0</th>\n",
       "      <td>siyaset</td>\n",
       "      <td>3 milyon ile ön seçim vaadi mhp nin 10 olağan...</td>\n",
       "      <td>ön seçim vaadi mhp olağan büyük kurultayı nda ...</td>\n",
       "    </tr>\n",
       "    <tr>\n",
       "      <th>1</th>\n",
       "      <td>siyaset</td>\n",
       "      <td>mesut_yılmaz yüce_divan da ceza alabilirdi pr...</td>\n",
       "      <td>mesut yılmaz yüce divan ceza alabilirdi prof d...</td>\n",
       "    </tr>\n",
       "    <tr>\n",
       "      <th>2</th>\n",
       "      <td>siyaset</td>\n",
       "      <td>disko lar kaldırılıyor başbakan_yardımcısı ar...</td>\n",
       "      <td>disko lar kaldırılıyor başbakan yardımcısı arı...</td>\n",
       "    </tr>\n",
       "    <tr>\n",
       "      <th>3</th>\n",
       "      <td>siyaset</td>\n",
       "      <td>sarıgül anayasa_mahkemesi ne gidiyor mustafa_...</td>\n",
       "      <td>sarıgül anayasa mahkemesi gidiyor mustafa sarı...</td>\n",
       "    </tr>\n",
       "    <tr>\n",
       "      <th>4</th>\n",
       "      <td>siyaset</td>\n",
       "      <td>erdoğan idamın bir haklılık sebebi var demek ...</td>\n",
       "      <td>erdoğan idamın haklılık sebebi demek yeri geld...</td>\n",
       "    </tr>\n",
       "  </tbody>\n",
       "</table>\n",
       "</div>"
      ],
      "text/plain": [
       "   category                                               text  \\\n",
       "0  siyaset    3 milyon ile ön seçim vaadi mhp nin 10 olağan...   \n",
       "1  siyaset    mesut_yılmaz yüce_divan da ceza alabilirdi pr...   \n",
       "2  siyaset    disko lar kaldırılıyor başbakan_yardımcısı ar...   \n",
       "3  siyaset    sarıgül anayasa_mahkemesi ne gidiyor mustafa_...   \n",
       "4  siyaset    erdoğan idamın bir haklılık sebebi var demek ...   \n",
       "\n",
       "                                        cleaned_text  \n",
       "0  ön seçim vaadi mhp olağan büyük kurultayı nda ...  \n",
       "1  mesut yılmaz yüce divan ceza alabilirdi prof d...  \n",
       "2  disko lar kaldırılıyor başbakan yardımcısı arı...  \n",
       "3  sarıgül anayasa mahkemesi gidiyor mustafa sarı...  \n",
       "4  erdoğan idamın haklılık sebebi demek yeri geld...  "
      ]
     },
     "execution_count": 15,
     "metadata": {},
     "output_type": "execute_result"
    }
   ],
   "source": [
    "data['cleaned_text'] = data['text'].apply(lambda x: clean(x))\n",
    "\n",
    "# CLEANING PUNTUATIONS PROCESS\n",
    "data[\"cleaned_text\"] = data['cleaned_text'].apply(remove_punctuations)\n",
    "\n",
    "## CLEANING STOPWORDS PROCESS\n",
    "data['cleaned_text'] = data['cleaned_text'].apply(lambda x: ' '.join([word for word in x.split() if word not in (stopwords_set)]))\n",
    "\n",
    "data.head()"
   ]
  },
  {
   "cell_type": "markdown",
   "id": "native-harassment",
   "metadata": {},
   "source": [
    "#### WORD TOKENIZATION"
   ]
  },
  {
   "cell_type": "code",
   "execution_count": 16,
   "id": "plain-yugoslavia",
   "metadata": {},
   "outputs": [
    {
     "data": {
      "text/html": [
       "<div>\n",
       "<style scoped>\n",
       "    .dataframe tbody tr th:only-of-type {\n",
       "        vertical-align: middle;\n",
       "    }\n",
       "\n",
       "    .dataframe tbody tr th {\n",
       "        vertical-align: top;\n",
       "    }\n",
       "\n",
       "    .dataframe thead th {\n",
       "        text-align: right;\n",
       "    }\n",
       "</style>\n",
       "<table border=\"1\" class=\"dataframe\">\n",
       "  <thead>\n",
       "    <tr style=\"text-align: right;\">\n",
       "      <th></th>\n",
       "      <th>category</th>\n",
       "      <th>text</th>\n",
       "      <th>cleaned_text</th>\n",
       "      <th>text_word</th>\n",
       "      <th>text_word_count</th>\n",
       "    </tr>\n",
       "  </thead>\n",
       "  <tbody>\n",
       "    <tr>\n",
       "      <th>0</th>\n",
       "      <td>siyaset</td>\n",
       "      <td>3 milyon ile ön seçim vaadi mhp nin 10 olağan...</td>\n",
       "      <td>ön seçim vaadi mhp olağan büyük kurultayı nda ...</td>\n",
       "      <td>[ön, seçim, vaadi, mhp, olağan, büyük, kurulta...</td>\n",
       "      <td>719</td>\n",
       "    </tr>\n",
       "    <tr>\n",
       "      <th>1</th>\n",
       "      <td>siyaset</td>\n",
       "      <td>mesut_yılmaz yüce_divan da ceza alabilirdi pr...</td>\n",
       "      <td>mesut yılmaz yüce divan ceza alabilirdi prof d...</td>\n",
       "      <td>[mesut, yılmaz, yüce, divan, ceza, alabilirdi,...</td>\n",
       "      <td>379</td>\n",
       "    </tr>\n",
       "    <tr>\n",
       "      <th>2</th>\n",
       "      <td>siyaset</td>\n",
       "      <td>disko lar kaldırılıyor başbakan_yardımcısı ar...</td>\n",
       "      <td>disko lar kaldırılıyor başbakan yardımcısı arı...</td>\n",
       "      <td>[disko, lar, kaldırılıyor, başbakan, yardımcıs...</td>\n",
       "      <td>575</td>\n",
       "    </tr>\n",
       "    <tr>\n",
       "      <th>3</th>\n",
       "      <td>siyaset</td>\n",
       "      <td>sarıgül anayasa_mahkemesi ne gidiyor mustafa_...</td>\n",
       "      <td>sarıgül anayasa mahkemesi gidiyor mustafa sarı...</td>\n",
       "      <td>[sarıgül, anayasa, mahkemesi, gidiyor, mustafa...</td>\n",
       "      <td>72</td>\n",
       "    </tr>\n",
       "    <tr>\n",
       "      <th>4</th>\n",
       "      <td>siyaset</td>\n",
       "      <td>erdoğan idamın bir haklılık sebebi var demek ...</td>\n",
       "      <td>erdoğan idamın haklılık sebebi demek yeri geld...</td>\n",
       "      <td>[erdoğan, idamın, haklılık, sebebi, demek, yer...</td>\n",
       "      <td>167</td>\n",
       "    </tr>\n",
       "  </tbody>\n",
       "</table>\n",
       "</div>"
      ],
      "text/plain": [
       "   category                                               text  \\\n",
       "0  siyaset    3 milyon ile ön seçim vaadi mhp nin 10 olağan...   \n",
       "1  siyaset    mesut_yılmaz yüce_divan da ceza alabilirdi pr...   \n",
       "2  siyaset    disko lar kaldırılıyor başbakan_yardımcısı ar...   \n",
       "3  siyaset    sarıgül anayasa_mahkemesi ne gidiyor mustafa_...   \n",
       "4  siyaset    erdoğan idamın bir haklılık sebebi var demek ...   \n",
       "\n",
       "                                        cleaned_text  \\\n",
       "0  ön seçim vaadi mhp olağan büyük kurultayı nda ...   \n",
       "1  mesut yılmaz yüce divan ceza alabilirdi prof d...   \n",
       "2  disko lar kaldırılıyor başbakan yardımcısı arı...   \n",
       "3  sarıgül anayasa mahkemesi gidiyor mustafa sarı...   \n",
       "4  erdoğan idamın haklılık sebebi demek yeri geld...   \n",
       "\n",
       "                                           text_word  text_word_count  \n",
       "0  [ön, seçim, vaadi, mhp, olağan, büyük, kurulta...              719  \n",
       "1  [mesut, yılmaz, yüce, divan, ceza, alabilirdi,...              379  \n",
       "2  [disko, lar, kaldırılıyor, başbakan, yardımcıs...              575  \n",
       "3  [sarıgül, anayasa, mahkemesi, gidiyor, mustafa...               72  \n",
       "4  [erdoğan, idamın, haklılık, sebebi, demek, yer...              167  "
      ]
     },
     "execution_count": 16,
     "metadata": {},
     "output_type": "execute_result"
    }
   ],
   "source": [
    "string_text = data['cleaned_text'].str\n",
    "data['cleaned_text'] = string_text.translate(str.maketrans('', '', punctuation_set))\n",
    "data['text_word'] = data['cleaned_text'].apply(word_tokenize).to_list()\n",
    "data['text_word_count'] = data['text_word'].apply(len)\n",
    "\n",
    "data.head()"
   ]
  },
  {
   "cell_type": "markdown",
   "id": "demonstrated-estate",
   "metadata": {},
   "source": [
    "#### LEMMA"
   ]
  },
  {
   "cell_type": "code",
   "execution_count": 17,
   "id": "optical-point",
   "metadata": {},
   "outputs": [],
   "source": [
    "ZEMBEREK_PATH = 'D:\\zemberek-full_old.jar'\n",
    "if jpype.isJVMStarted() is False:\n",
    "        startJVM(getDefaultJVMPath(), '-ea', '-Djava.class.path=%s' % (ZEMBEREK_PATH))\n",
    "TurkishMorphology = JClass('zemberek.morphology.TurkishMorphology')\n",
    "morphology = TurkishMorphology.createWithDefaults()"
   ]
  },
  {
   "cell_type": "code",
   "execution_count": 18,
   "id": "understood-classics",
   "metadata": {},
   "outputs": [
    {
     "data": {
      "text/html": [
       "<div>\n",
       "<style scoped>\n",
       "    .dataframe tbody tr th:only-of-type {\n",
       "        vertical-align: middle;\n",
       "    }\n",
       "\n",
       "    .dataframe tbody tr th {\n",
       "        vertical-align: top;\n",
       "    }\n",
       "\n",
       "    .dataframe thead th {\n",
       "        text-align: right;\n",
       "    }\n",
       "</style>\n",
       "<table border=\"1\" class=\"dataframe\">\n",
       "  <thead>\n",
       "    <tr style=\"text-align: right;\">\n",
       "      <th></th>\n",
       "      <th>category</th>\n",
       "      <th>text</th>\n",
       "      <th>cleaned_text</th>\n",
       "      <th>text_word</th>\n",
       "      <th>text_word_count</th>\n",
       "      <th>text_word_lem</th>\n",
       "      <th>text_word_stem_count</th>\n",
       "    </tr>\n",
       "  </thead>\n",
       "  <tbody>\n",
       "    <tr>\n",
       "      <th>0</th>\n",
       "      <td>siyaset</td>\n",
       "      <td>3 milyon ile ön seçim vaadi mhp nin 10 olağan...</td>\n",
       "      <td>ön seçim vaadi mhp olağan büyük kurultayı nda ...</td>\n",
       "      <td>[ön, seçim, vaadi, mhp, olağan, büyük, kurulta...</td>\n",
       "      <td>719</td>\n",
       "      <td>ön seçim vaat mhp olağan büyük kurultay nda ko...</td>\n",
       "      <td>3993</td>\n",
       "    </tr>\n",
       "    <tr>\n",
       "      <th>1</th>\n",
       "      <td>siyaset</td>\n",
       "      <td>mesut_yılmaz yüce_divan da ceza alabilirdi pr...</td>\n",
       "      <td>mesut yılmaz yüce divan ceza alabilirdi prof d...</td>\n",
       "      <td>[mesut, yılmaz, yüce, divan, ceza, alabilirdi,...</td>\n",
       "      <td>379</td>\n",
       "      <td>mesut yıl yüce divan ceza al prof dr sacit ada...</td>\n",
       "      <td>2069</td>\n",
       "    </tr>\n",
       "    <tr>\n",
       "      <th>2</th>\n",
       "      <td>siyaset</td>\n",
       "      <td>disko lar kaldırılıyor başbakan_yardımcısı ar...</td>\n",
       "      <td>disko lar kaldırılıyor başbakan yardımcısı arı...</td>\n",
       "      <td>[disko, lar, kaldırılıyor, başbakan, yardımcıs...</td>\n",
       "      <td>575</td>\n",
       "      <td>disko UNK kaldır başbakan yardımcı arınç disko...</td>\n",
       "      <td>3351</td>\n",
       "    </tr>\n",
       "    <tr>\n",
       "      <th>3</th>\n",
       "      <td>siyaset</td>\n",
       "      <td>sarıgül anayasa_mahkemesi ne gidiyor mustafa_...</td>\n",
       "      <td>sarıgül anayasa mahkemesi gidiyor mustafa sarı...</td>\n",
       "      <td>[sarıgül, anayasa, mahkemesi, gidiyor, mustafa...</td>\n",
       "      <td>72</td>\n",
       "      <td>sarıgül anayasa mahkemesi git mustafa sarıgül ...</td>\n",
       "      <td>501</td>\n",
       "    </tr>\n",
       "    <tr>\n",
       "      <th>4</th>\n",
       "      <td>siyaset</td>\n",
       "      <td>erdoğan idamın bir haklılık sebebi var demek ...</td>\n",
       "      <td>erdoğan idamın haklılık sebebi demek yeri geld...</td>\n",
       "      <td>[erdoğan, idamın, haklılık, sebebi, demek, yer...</td>\n",
       "      <td>167</td>\n",
       "      <td>erdoğan idam hak sebep demek yer gel zaman ida...</td>\n",
       "      <td>959</td>\n",
       "    </tr>\n",
       "  </tbody>\n",
       "</table>\n",
       "</div>"
      ],
      "text/plain": [
       "   category                                               text  \\\n",
       "0  siyaset    3 milyon ile ön seçim vaadi mhp nin 10 olağan...   \n",
       "1  siyaset    mesut_yılmaz yüce_divan da ceza alabilirdi pr...   \n",
       "2  siyaset    disko lar kaldırılıyor başbakan_yardımcısı ar...   \n",
       "3  siyaset    sarıgül anayasa_mahkemesi ne gidiyor mustafa_...   \n",
       "4  siyaset    erdoğan idamın bir haklılık sebebi var demek ...   \n",
       "\n",
       "                                        cleaned_text  \\\n",
       "0  ön seçim vaadi mhp olağan büyük kurultayı nda ...   \n",
       "1  mesut yılmaz yüce divan ceza alabilirdi prof d...   \n",
       "2  disko lar kaldırılıyor başbakan yardımcısı arı...   \n",
       "3  sarıgül anayasa mahkemesi gidiyor mustafa sarı...   \n",
       "4  erdoğan idamın haklılık sebebi demek yeri geld...   \n",
       "\n",
       "                                           text_word  text_word_count  \\\n",
       "0  [ön, seçim, vaadi, mhp, olağan, büyük, kurulta...              719   \n",
       "1  [mesut, yılmaz, yüce, divan, ceza, alabilirdi,...              379   \n",
       "2  [disko, lar, kaldırılıyor, başbakan, yardımcıs...              575   \n",
       "3  [sarıgül, anayasa, mahkemesi, gidiyor, mustafa...               72   \n",
       "4  [erdoğan, idamın, haklılık, sebebi, demek, yer...              167   \n",
       "\n",
       "                                       text_word_lem  text_word_stem_count  \n",
       "0  ön seçim vaat mhp olağan büyük kurultay nda ko...                  3993  \n",
       "1  mesut yıl yüce divan ceza al prof dr sacit ada...                  2069  \n",
       "2  disko UNK kaldır başbakan yardımcı arınç disko...                  3351  \n",
       "3  sarıgül anayasa mahkemesi git mustafa sarıgül ...                   501  \n",
       "4  erdoğan idam hak sebep demek yer gel zaman ida...                   959  "
      ]
     },
     "execution_count": 18,
     "metadata": {},
     "output_type": "execute_result"
    }
   ],
   "source": [
    "def lemmatizer(data):\n",
    "    lemma_words = []\n",
    "    for text in data:\n",
    "        lemma_word = str(morphology.analyzeAndDisambiguate(str(text)).bestAnalysis()[0].getLemmas()[0])\n",
    "        lemma_words.append(lemma_word)\n",
    "    text = ' '.join(lemma_words)\n",
    "    return text\n",
    "\n",
    "data['text_word_lem'] = data['text_word'].apply(lemmatizer)\n",
    "data['text_word_stem_count'] = data['text_word_lem'].apply(len)\n",
    "\n",
    "data.head()"
   ]
  },
  {
   "cell_type": "markdown",
   "id": "frozen-executive",
   "metadata": {},
   "source": [
    "Lastly we can remove the words whose length less than 3. Because usually means nothing"
   ]
  },
  {
   "cell_type": "code",
   "execution_count": 20,
   "id": "advance-glenn",
   "metadata": {},
   "outputs": [
    {
     "data": {
      "text/html": [
       "<div>\n",
       "<style scoped>\n",
       "    .dataframe tbody tr th:only-of-type {\n",
       "        vertical-align: middle;\n",
       "    }\n",
       "\n",
       "    .dataframe tbody tr th {\n",
       "        vertical-align: top;\n",
       "    }\n",
       "\n",
       "    .dataframe thead th {\n",
       "        text-align: right;\n",
       "    }\n",
       "</style>\n",
       "<table border=\"1\" class=\"dataframe\">\n",
       "  <thead>\n",
       "    <tr style=\"text-align: right;\">\n",
       "      <th></th>\n",
       "      <th>category</th>\n",
       "      <th>text</th>\n",
       "      <th>cleaned_text</th>\n",
       "      <th>text_word</th>\n",
       "      <th>text_word_count</th>\n",
       "      <th>text_word_lem</th>\n",
       "      <th>text_word_stem_count</th>\n",
       "      <th>text_word_lem_count</th>\n",
       "    </tr>\n",
       "  </thead>\n",
       "  <tbody>\n",
       "    <tr>\n",
       "      <th>0</th>\n",
       "      <td>siyaset</td>\n",
       "      <td>3 milyon ile ön seçim vaadi mhp nin 10 olağan...</td>\n",
       "      <td>ön seçim vaadi mhp olağan büyük kurultayı nda ...</td>\n",
       "      <td>[ön, seçim, vaadi, mhp, olağan, büyük, kurulta...</td>\n",
       "      <td>719</td>\n",
       "      <td>seçim vaat olağan büyük kurultay konuş genel ...</td>\n",
       "      <td>3221</td>\n",
       "      <td>3221</td>\n",
       "    </tr>\n",
       "    <tr>\n",
       "      <th>1</th>\n",
       "      <td>siyaset</td>\n",
       "      <td>mesut_yılmaz yüce_divan da ceza alabilirdi pr...</td>\n",
       "      <td>mesut yılmaz yüce divan ceza alabilirdi prof d...</td>\n",
       "      <td>[mesut, yılmaz, yüce, divan, ceza, alabilirdi,...</td>\n",
       "      <td>379</td>\n",
       "      <td>mesut yüce divan ceza prof sacit adal isviçre ...</td>\n",
       "      <td>1660</td>\n",
       "      <td>1660</td>\n",
       "    </tr>\n",
       "    <tr>\n",
       "      <th>2</th>\n",
       "      <td>siyaset</td>\n",
       "      <td>disko lar kaldırılıyor başbakan_yardımcısı ar...</td>\n",
       "      <td>disko lar kaldırılıyor başbakan yardımcısı arı...</td>\n",
       "      <td>[disko, lar, kaldırılıyor, başbakan, yardımcıs...</td>\n",
       "      <td>575</td>\n",
       "      <td>disko kaldır başbakan yardımcı arınç disko tab...</td>\n",
       "      <td>2813</td>\n",
       "      <td>2813</td>\n",
       "    </tr>\n",
       "    <tr>\n",
       "      <th>3</th>\n",
       "      <td>siyaset</td>\n",
       "      <td>sarıgül anayasa_mahkemesi ne gidiyor mustafa_...</td>\n",
       "      <td>sarıgül anayasa mahkemesi gidiyor mustafa sarı...</td>\n",
       "      <td>[sarıgül, anayasa, mahkemesi, gidiyor, mustafa...</td>\n",
       "      <td>72</td>\n",
       "      <td>sarıgül anayasa mahkemesi mustafa sarıgül ilçe...</td>\n",
       "      <td>475</td>\n",
       "      <td>475</td>\n",
       "    </tr>\n",
       "    <tr>\n",
       "      <th>4</th>\n",
       "      <td>siyaset</td>\n",
       "      <td>erdoğan idamın bir haklılık sebebi var demek ...</td>\n",
       "      <td>erdoğan idamın haklılık sebebi demek yeri geld...</td>\n",
       "      <td>[erdoğan, idamın, haklılık, sebebi, demek, yer...</td>\n",
       "      <td>167</td>\n",
       "      <td>erdoğan idam sebep demek zaman idam sebep kend...</td>\n",
       "      <td>805</td>\n",
       "      <td>805</td>\n",
       "    </tr>\n",
       "  </tbody>\n",
       "</table>\n",
       "</div>"
      ],
      "text/plain": [
       "   category                                               text  \\\n",
       "0  siyaset    3 milyon ile ön seçim vaadi mhp nin 10 olağan...   \n",
       "1  siyaset    mesut_yılmaz yüce_divan da ceza alabilirdi pr...   \n",
       "2  siyaset    disko lar kaldırılıyor başbakan_yardımcısı ar...   \n",
       "3  siyaset    sarıgül anayasa_mahkemesi ne gidiyor mustafa_...   \n",
       "4  siyaset    erdoğan idamın bir haklılık sebebi var demek ...   \n",
       "\n",
       "                                        cleaned_text  \\\n",
       "0  ön seçim vaadi mhp olağan büyük kurultayı nda ...   \n",
       "1  mesut yılmaz yüce divan ceza alabilirdi prof d...   \n",
       "2  disko lar kaldırılıyor başbakan yardımcısı arı...   \n",
       "3  sarıgül anayasa mahkemesi gidiyor mustafa sarı...   \n",
       "4  erdoğan idamın haklılık sebebi demek yeri geld...   \n",
       "\n",
       "                                           text_word  text_word_count  \\\n",
       "0  [ön, seçim, vaadi, mhp, olağan, büyük, kurulta...              719   \n",
       "1  [mesut, yılmaz, yüce, divan, ceza, alabilirdi,...              379   \n",
       "2  [disko, lar, kaldırılıyor, başbakan, yardımcıs...              575   \n",
       "3  [sarıgül, anayasa, mahkemesi, gidiyor, mustafa...               72   \n",
       "4  [erdoğan, idamın, haklılık, sebebi, demek, yer...              167   \n",
       "\n",
       "                                       text_word_lem  text_word_stem_count  \\\n",
       "0   seçim vaat olağan büyük kurultay konuş genel ...                  3221   \n",
       "1  mesut yüce divan ceza prof sacit adal isviçre ...                  1660   \n",
       "2  disko kaldır başbakan yardımcı arınç disko tab...                  2813   \n",
       "3  sarıgül anayasa mahkemesi mustafa sarıgül ilçe...                   475   \n",
       "4  erdoğan idam sebep demek zaman idam sebep kend...                   805   \n",
       "\n",
       "   text_word_lem_count  \n",
       "0                 3221  \n",
       "1                 1660  \n",
       "2                 2813  \n",
       "3                  475  \n",
       "4                  805  "
      ]
     },
     "execution_count": 20,
     "metadata": {},
     "output_type": "execute_result"
    }
   ],
   "source": [
    "def remove_words(word):\n",
    "    shortword = re.compile(r'\\W*\\b\\w{1,3}\\b')\n",
    "    return shortword.sub('', word)\n",
    "\n",
    "data['text_word_lem'] = data['text_word_lem'].apply(remove_words)\n",
    "data['text_word_lem_count'] = data['text_word_lem'].apply(len) # calculate again the length of words\n",
    "\n",
    "data.head()"
   ]
  },
  {
   "cell_type": "code",
   "execution_count": 26,
   "id": "9104b875",
   "metadata": {},
   "outputs": [
    {
     "data": {
      "text/plain": [
       "<AxesSubplot:>"
      ]
     },
     "execution_count": 26,
     "metadata": {},
     "output_type": "execute_result"
    },
    {
     "data": {
      "image/png": "[encoded data removed]",
      "text/plain": [
       "<Figure size 432x288 with 1 Axes>"
      ]
     },
     "metadata": {
      "needs_background": "light"
     },
     "output_type": "display_data"
    }
   ],
   "source": [
    "data['text_word_lem_count'].plot()"
   ]
  },
  {
   "cell_type": "markdown",
   "id": "hungarian-processor",
   "metadata": {},
   "source": [
    "**BERT MODEL WILL BE IMPLEMENTED**"
   ]
  },
  {
   "cell_type": "code",
   "execution_count": null,
   "id": "769dc642",
   "metadata": {},
   "outputs": [],
   "source": []
  }
 ],
 "metadata": {
  "kernelspec": {
   "display_name": "Python 3 (ipykernel)",
   "language": "python",
   "name": "python3"
  },
  "language_info": {
   "codemirror_mode": {
    "name": "ipython",
    "version": 3
   },
   "file_extension": ".py",
   "mimetype": "text/x-python",
   "name": "python",
   "nbconvert_exporter": "python",
   "pygments_lexer": "ipython3",
   "version": "3.9.2"
  }
 },
 "nbformat": 4,
 "nbformat_minor": 5
}
