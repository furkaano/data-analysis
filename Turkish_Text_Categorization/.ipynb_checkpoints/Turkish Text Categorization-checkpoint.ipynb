{
 "cells": [
  {
   "cell_type": "markdown",
   "id": "human-fossil",
   "metadata": {},
   "source": [
    "In this notebook, we are going to categorize reviews"
   ]
  },
  {
   "cell_type": "code",
   "execution_count": 17,
   "id": "monetary-palestine",
   "metadata": {},
   "outputs": [],
   "source": [
    "import pandas as pd\n",
    "import tensorflow as tf\n",
    "import torch\n",
    "import numpy as np\n",
    "import time\n",
    "import datetime\n",
    "import random\n",
    "import seaborn as sns\n",
    "import matplotlib.pyplot as plt\n",
    "%matplotlib inline\n",
    "\n",
    "import re\n",
    "import string\n",
    "import nltk\n",
    "from nltk.corpus import stopwords\n",
    "\n",
    "import transformers\n",
    "from transformers import BertTokenizer\n",
    "from torch.utils.data import TensorDataset, random_split, DataLoader, RandomSampler, SequentialSampler\n",
    "from transformers import BertForSequenceClassification, AdamW, BertConfig\n",
    "from transformers import get_linear_schedule_with_warmup\n",
    "\n",
    "from sklearn.metrics import f1_score, recall_score, precision_score, classification_report\n",
    "from sklearn.preprocessing import LabelEncoder"
   ]
  },
  {
   "cell_type": "code",
   "execution_count": 8,
   "id": "diverse-green",
   "metadata": {},
   "outputs": [
    {
     "data": {
      "text/html": [
       "<div>\n",
       "<style scoped>\n",
       "    .dataframe tbody tr th:only-of-type {\n",
       "        vertical-align: middle;\n",
       "    }\n",
       "\n",
       "    .dataframe tbody tr th {\n",
       "        vertical-align: top;\n",
       "    }\n",
       "\n",
       "    .dataframe thead th {\n",
       "        text-align: right;\n",
       "    }\n",
       "</style>\n",
       "<table border=\"1\" class=\"dataframe\">\n",
       "  <thead>\n",
       "    <tr style=\"text-align: right;\">\n",
       "      <th></th>\n",
       "      <th>category</th>\n",
       "      <th>text</th>\n",
       "    </tr>\n",
       "  </thead>\n",
       "  <tbody>\n",
       "    <tr>\n",
       "      <th>0</th>\n",
       "      <td>siyaset</td>\n",
       "      <td>3 milyon ile ön seçim vaadi mhp nin 10 olağan...</td>\n",
       "    </tr>\n",
       "    <tr>\n",
       "      <th>1</th>\n",
       "      <td>siyaset</td>\n",
       "      <td>mesut_yılmaz yüce_divan da ceza alabilirdi pr...</td>\n",
       "    </tr>\n",
       "    <tr>\n",
       "      <th>2</th>\n",
       "      <td>siyaset</td>\n",
       "      <td>disko lar kaldırılıyor başbakan_yardımcısı ar...</td>\n",
       "    </tr>\n",
       "    <tr>\n",
       "      <th>3</th>\n",
       "      <td>siyaset</td>\n",
       "      <td>sarıgül anayasa_mahkemesi ne gidiyor mustafa_...</td>\n",
       "    </tr>\n",
       "    <tr>\n",
       "      <th>4</th>\n",
       "      <td>siyaset</td>\n",
       "      <td>erdoğan idamın bir haklılık sebebi var demek ...</td>\n",
       "    </tr>\n",
       "  </tbody>\n",
       "</table>\n",
       "</div>"
      ],
      "text/plain": [
       "   category                                               text\n",
       "0  siyaset    3 milyon ile ön seçim vaadi mhp nin 10 olağan...\n",
       "1  siyaset    mesut_yılmaz yüce_divan da ceza alabilirdi pr...\n",
       "2  siyaset    disko lar kaldırılıyor başbakan_yardımcısı ar...\n",
       "3  siyaset    sarıgül anayasa_mahkemesi ne gidiyor mustafa_...\n",
       "4  siyaset    erdoğan idamın bir haklılık sebebi var demek ..."
      ]
     },
     "execution_count": 8,
     "metadata": {},
     "output_type": "execute_result"
    }
   ],
   "source": [
    "data = pd.read_csv('7allV03.csv')\n",
    "data.head()"
   ]
  },
  {
   "cell_type": "markdown",
   "id": "organic-sword",
   "metadata": {},
   "source": [
    "#### Quick Overview of Data"
   ]
  },
  {
   "cell_type": "code",
   "execution_count": 9,
   "id": "french-herald",
   "metadata": {},
   "outputs": [
    {
     "name": "stdout",
     "output_type": "stream",
     "text": [
      "<class 'pandas.core.frame.DataFrame'>\n",
      "RangeIndex: 4900 entries, 0 to 4899\n",
      "Data columns (total 2 columns):\n",
      " #   Column    Non-Null Count  Dtype \n",
      "---  ------    --------------  ----- \n",
      " 0   category  4900 non-null   object\n",
      " 1   text      4900 non-null   object\n",
      "dtypes: object(2)\n",
      "memory usage: 76.7+ KB\n"
     ]
    }
   ],
   "source": [
    "data.info()"
   ]
  },
  {
   "cell_type": "code",
   "execution_count": 10,
   "id": "competitive-reform",
   "metadata": {},
   "outputs": [
    {
     "data": {
      "text/plain": [
       "siyaset       700\n",
       "dunya         700\n",
       "ekonomi       700\n",
       "kultur        700\n",
       "saglik        700\n",
       "spor          700\n",
       "teknoloji     700\n",
       "Name: category, dtype: int64"
      ]
     },
     "execution_count": 10,
     "metadata": {},
     "output_type": "execute_result"
    }
   ],
   "source": [
    "data['category'].value_counts()"
   ]
  },
  {
   "cell_type": "code",
   "execution_count": 13,
   "id": "ahead-compensation",
   "metadata": {},
   "outputs": [
    {
     "name": "stdout",
     "output_type": "stream",
     "text": [
      "There are 7 categories\n"
     ]
    }
   ],
   "source": [
    "print('There are', len(data['category'].value_counts()), 'categories')"
   ]
  },
  {
   "cell_type": "code",
   "execution_count": 16,
   "id": "retained-definition",
   "metadata": {},
   "outputs": [
    {
     "name": "stderr",
     "output_type": "stream",
     "text": [
      "C:\\Users\\burak\\AppData\\Roaming\\Python\\Python39\\site-packages\\seaborn\\_decorators.py:36: FutureWarning: Pass the following variable as a keyword arg: x. From version 0.12, the only valid positional argument will be `data`, and passing other arguments without an explicit keyword will result in an error or misinterpretation.\n",
      "  warnings.warn(\n"
     ]
    },
    {
     "data": {
      "text/plain": [
       "<AxesSubplot:xlabel='category', ylabel='count'>"
      ]
     },
     "execution_count": 16,
     "metadata": {},
     "output_type": "execute_result"
    },
    {
     "data": {
      "image/png": "[encoded data removed]",
      "text/plain": [
       "<Figure size 432x288 with 1 Axes>"
      ]
     },
     "metadata": {
      "needs_background": "light"
     },
     "output_type": "display_data"
    }
   ],
   "source": [
    "sns.countplot(data['category'])"
   ]
  },
  {
   "cell_type": "markdown",
   "id": "historic-forum",
   "metadata": {},
   "source": [
    "## Preprocess"
   ]
  },
  {
   "cell_type": "markdown",
   "id": "certified-diesel",
   "metadata": {},
   "source": [
    "#### Data cleaning\n",
    "\n",
    "-> Removing of punctuations, numbers, stopwords, urls etc.\n",
    "\n",
    "-> Converting uppercase to lower\n",
    "\n",
    "-> Tokenization\n",
    "\n",
    "-> Lemmatization or Stemming"
   ]
  },
  {
   "cell_type": "code",
   "execution_count": 24,
   "id": "composed-oracle",
   "metadata": {},
   "outputs": [],
   "source": [
    "# create a set of stopwords\n",
    "stopwords_set = stopwords.words('turkish')\n",
    "# create a set of punctuations\n",
    "punctuation_set = string.punctuation"
   ]
  },
  {
   "cell_type": "code",
   "execution_count": 23,
   "id": "considerable-render",
   "metadata": {},
   "outputs": [
    {
     "name": "stdout",
     "output_type": "stream",
     "text": [
      "Number of urls      : 6\n",
      "Number of html tag  : 1\n",
      "Number of digits    : 49168\n",
      "Number of punc      : 26242\n"
     ]
    }
   ],
   "source": [
    "re_urls = r'http\\S+'\n",
    "re_html = r'<.*?>'\n",
    "re_digits = r'\\d+'\n",
    "re_punc = r'[^\\w\\s\\d]'\n",
    "\n",
    "print(\"Number of urls      :\", data['text'].str.count(re_urls).sum())\n",
    "print(\"Number of html tag  :\", data['text'].str.count(re_html).sum())\n",
    "print(\"Number of digits    :\", data['text'].str.count(re_digits).sum())\n",
    "print(\"Number of punc      :\", data['text'].str.count(re_punc).sum())"
   ]
  },
  {
   "cell_type": "code",
   "execution_count": 25,
   "id": "strong-bench",
   "metadata": {},
   "outputs": [],
   "source": [
    "def clean(text):\n",
    "    #lowercase operation\n",
    "    text = text.lower()\n",
    "    #remove urls\n",
    "    text = re.sub(re_urls, '', text)\n",
    "    #remove html\n",
    "    text = re.sub(re_html, '', text)\n",
    "    #remove digits\n",
    "    text = re.sub(re_digits, '', text)\n",
    "    # remove punctuations\n",
    "    text = \"\".join(list(map(lambda x:x if x not in punctuation_set else \" \", text)))\n",
    "    #remove stop words \n",
    "    text = text.split()\n",
    "    text = ' '.join([word for word in text if not word in stopwords_set])\n",
    "    \n",
    "    return text"
   ]
  },
  {
   "cell_type": "code",
   "execution_count": 26,
   "id": "measured-today",
   "metadata": {},
   "outputs": [
    {
     "data": {
      "text/html": [
       "<div>\n",
       "<style scoped>\n",
       "    .dataframe tbody tr th:only-of-type {\n",
       "        vertical-align: middle;\n",
       "    }\n",
       "\n",
       "    .dataframe tbody tr th {\n",
       "        vertical-align: top;\n",
       "    }\n",
       "\n",
       "    .dataframe thead th {\n",
       "        text-align: right;\n",
       "    }\n",
       "</style>\n",
       "<table border=\"1\" class=\"dataframe\">\n",
       "  <thead>\n",
       "    <tr style=\"text-align: right;\">\n",
       "      <th></th>\n",
       "      <th>category</th>\n",
       "      <th>text</th>\n",
       "      <th>cleaned_text</th>\n",
       "    </tr>\n",
       "  </thead>\n",
       "  <tbody>\n",
       "    <tr>\n",
       "      <th>0</th>\n",
       "      <td>siyaset</td>\n",
       "      <td>3 milyon ile ön seçim vaadi mhp nin 10 olağan...</td>\n",
       "      <td>milyon ön seçim vaadi mhp nin olağan büyük kur...</td>\n",
       "    </tr>\n",
       "    <tr>\n",
       "      <th>1</th>\n",
       "      <td>siyaset</td>\n",
       "      <td>mesut_yılmaz yüce_divan da ceza alabilirdi pr...</td>\n",
       "      <td>mesut_yılmaz yüce_divan ceza alabilirdi prof d...</td>\n",
       "    </tr>\n",
       "    <tr>\n",
       "      <th>2</th>\n",
       "      <td>siyaset</td>\n",
       "      <td>disko lar kaldırılıyor başbakan_yardımcısı ar...</td>\n",
       "      <td>disko lar kaldırılıyor başbakan_yardımcısı arı...</td>\n",
       "    </tr>\n",
       "    <tr>\n",
       "      <th>3</th>\n",
       "      <td>siyaset</td>\n",
       "      <td>sarıgül anayasa_mahkemesi ne gidiyor mustafa_...</td>\n",
       "      <td>sarıgül anayasa_mahkemesi gidiyor mustafa_sarı...</td>\n",
       "    </tr>\n",
       "    <tr>\n",
       "      <th>4</th>\n",
       "      <td>siyaset</td>\n",
       "      <td>erdoğan idamın bir haklılık sebebi var demek ...</td>\n",
       "      <td>erdoğan idamın bir haklılık sebebi var demek y...</td>\n",
       "    </tr>\n",
       "  </tbody>\n",
       "</table>\n",
       "</div>"
      ],
      "text/plain": [
       "   category                                               text  \\\n",
       "0  siyaset    3 milyon ile ön seçim vaadi mhp nin 10 olağan...   \n",
       "1  siyaset    mesut_yılmaz yüce_divan da ceza alabilirdi pr...   \n",
       "2  siyaset    disko lar kaldırılıyor başbakan_yardımcısı ar...   \n",
       "3  siyaset    sarıgül anayasa_mahkemesi ne gidiyor mustafa_...   \n",
       "4  siyaset    erdoğan idamın bir haklılık sebebi var demek ...   \n",
       "\n",
       "                                        cleaned_text  \n",
       "0  milyon ön seçim vaadi mhp nin olağan büyük kur...  \n",
       "1  mesut_yılmaz yüce_divan ceza alabilirdi prof d...  \n",
       "2  disko lar kaldırılıyor başbakan_yardımcısı arı...  \n",
       "3  sarıgül anayasa_mahkemesi gidiyor mustafa_sarı...  \n",
       "4  erdoğan idamın bir haklılık sebebi var demek y...  "
      ]
     },
     "execution_count": 26,
     "metadata": {},
     "output_type": "execute_result"
    }
   ],
   "source": [
    "data['cleaned_text'] = data['text'].apply(lambda x: clean(x))\n",
    "data.head()"
   ]
  },
  {
   "cell_type": "code",
   "execution_count": null,
   "id": "favorite-savage",
   "metadata": {},
   "outputs": [],
   "source": []
  }
 ],
 "metadata": {
  "kernelspec": {
   "display_name": "Python 3",
   "language": "python",
   "name": "python3"
  },
  "language_info": {
   "codemirror_mode": {
    "name": "ipython",
    "version": 3
   },
   "file_extension": ".py",
   "mimetype": "text/x-python",
   "name": "python",
   "nbconvert_exporter": "python",
   "pygments_lexer": "ipython3",
   "version": "3.9.2"
  }
 },
 "nbformat": 4,
 "nbformat_minor": 5
}
