{
 "cells": [
  {
   "cell_type": "markdown",
   "id": "brazilian-affiliation",
   "metadata": {},
   "source": [
    "### COVID 19 TWEETS"
   ]
  },
  {
   "cell_type": "code",
   "execution_count": 30,
   "id": "patent-palestine",
   "metadata": {},
   "outputs": [],
   "source": [
    "import pandas as pd\n",
    "import numpy as np\n",
    "from collections import Counter\n",
    "import re\n",
    "import seaborn as sns\n",
    "import matplotlib.pyplot as plt\n",
    "%matplotlib inline"
   ]
  },
  {
   "cell_type": "code",
   "execution_count": 2,
   "id": "advance-young",
   "metadata": {},
   "outputs": [],
   "source": [
    "df_train = pd.read_csv('Corona_NLP_train.csv', encoding='latin1')\n",
    "df_test = pd.read_csv('Corona_NLP_test.csv', encoding='latin1')\n",
    "combined_data = pd.concat([df_train, df_test])"
   ]
  },
  {
   "cell_type": "code",
   "execution_count": 3,
   "id": "coordinate-tyler",
   "metadata": {},
   "outputs": [
    {
     "data": {
      "text/html": [
       "<div>\n",
       "<style scoped>\n",
       "    .dataframe tbody tr th:only-of-type {\n",
       "        vertical-align: middle;\n",
       "    }\n",
       "\n",
       "    .dataframe tbody tr th {\n",
       "        vertical-align: top;\n",
       "    }\n",
       "\n",
       "    .dataframe thead th {\n",
       "        text-align: right;\n",
       "    }\n",
       "</style>\n",
       "<table border=\"1\" class=\"dataframe\">\n",
       "  <thead>\n",
       "    <tr style=\"text-align: right;\">\n",
       "      <th></th>\n",
       "      <th>UserName</th>\n",
       "      <th>ScreenName</th>\n",
       "      <th>Location</th>\n",
       "      <th>TweetAt</th>\n",
       "      <th>OriginalTweet</th>\n",
       "      <th>Sentiment</th>\n",
       "    </tr>\n",
       "  </thead>\n",
       "  <tbody>\n",
       "    <tr>\n",
       "      <th>0</th>\n",
       "      <td>3799</td>\n",
       "      <td>48751</td>\n",
       "      <td>London</td>\n",
       "      <td>16-03-2020</td>\n",
       "      <td>@MeNyrbie @Phil_Gahan @Chrisitv https://t.co/i...</td>\n",
       "      <td>Neutral</td>\n",
       "    </tr>\n",
       "    <tr>\n",
       "      <th>1</th>\n",
       "      <td>3800</td>\n",
       "      <td>48752</td>\n",
       "      <td>UK</td>\n",
       "      <td>16-03-2020</td>\n",
       "      <td>advice Talk to your neighbours family to excha...</td>\n",
       "      <td>Positive</td>\n",
       "    </tr>\n",
       "    <tr>\n",
       "      <th>2</th>\n",
       "      <td>3801</td>\n",
       "      <td>48753</td>\n",
       "      <td>Vagabonds</td>\n",
       "      <td>16-03-2020</td>\n",
       "      <td>Coronavirus Australia: Woolworths to give elde...</td>\n",
       "      <td>Positive</td>\n",
       "    </tr>\n",
       "    <tr>\n",
       "      <th>3</th>\n",
       "      <td>3802</td>\n",
       "      <td>48754</td>\n",
       "      <td>NaN</td>\n",
       "      <td>16-03-2020</td>\n",
       "      <td>My food stock is not the only one which is emp...</td>\n",
       "      <td>Positive</td>\n",
       "    </tr>\n",
       "    <tr>\n",
       "      <th>4</th>\n",
       "      <td>3803</td>\n",
       "      <td>48755</td>\n",
       "      <td>NaN</td>\n",
       "      <td>16-03-2020</td>\n",
       "      <td>Me, ready to go at supermarket during the #COV...</td>\n",
       "      <td>Extremely Negative</td>\n",
       "    </tr>\n",
       "  </tbody>\n",
       "</table>\n",
       "</div>"
      ],
      "text/plain": [
       "   UserName  ScreenName   Location     TweetAt  \\\n",
       "0      3799       48751     London  16-03-2020   \n",
       "1      3800       48752         UK  16-03-2020   \n",
       "2      3801       48753  Vagabonds  16-03-2020   \n",
       "3      3802       48754        NaN  16-03-2020   \n",
       "4      3803       48755        NaN  16-03-2020   \n",
       "\n",
       "                                       OriginalTweet           Sentiment  \n",
       "0  @MeNyrbie @Phil_Gahan @Chrisitv https://t.co/i...             Neutral  \n",
       "1  advice Talk to your neighbours family to excha...            Positive  \n",
       "2  Coronavirus Australia: Woolworths to give elde...            Positive  \n",
       "3  My food stock is not the only one which is emp...            Positive  \n",
       "4  Me, ready to go at supermarket during the #COV...  Extremely Negative  "
      ]
     },
     "execution_count": 3,
     "metadata": {},
     "output_type": "execute_result"
    }
   ],
   "source": [
    "df_train.head()"
   ]
  },
  {
   "cell_type": "code",
   "execution_count": 4,
   "id": "disturbed-transsexual",
   "metadata": {},
   "outputs": [
    {
     "name": "stdout",
     "output_type": "stream",
     "text": [
      "<class 'pandas.core.frame.DataFrame'>\n",
      "RangeIndex: 41157 entries, 0 to 41156\n",
      "Data columns (total 6 columns):\n",
      " #   Column         Non-Null Count  Dtype \n",
      "---  ------         --------------  ----- \n",
      " 0   UserName       41157 non-null  int64 \n",
      " 1   ScreenName     41157 non-null  int64 \n",
      " 2   Location       32567 non-null  object\n",
      " 3   TweetAt        41157 non-null  object\n",
      " 4   OriginalTweet  41157 non-null  object\n",
      " 5   Sentiment      41157 non-null  object\n",
      "dtypes: int64(2), object(4)\n",
      "memory usage: 1.9+ MB\n"
     ]
    }
   ],
   "source": [
    "df_train.info()"
   ]
  },
  {
   "cell_type": "markdown",
   "id": "functioning-cartoon",
   "metadata": {},
   "source": [
    "#### Missing Values"
   ]
  },
  {
   "cell_type": "code",
   "execution_count": 15,
   "id": "asian-peter",
   "metadata": {
    "scrolled": true
   },
   "outputs": [
    {
     "data": {
      "text/plain": [
       "<AxesSubplot:>"
      ]
     },
     "execution_count": 15,
     "metadata": {},
     "output_type": "execute_result"
    },
    {
     "data": {
      "image/png": "[encoded data removed]",
      "text/plain": [
       "<Figure size 432x288 with 2 Axes>"
      ]
     },
     "metadata": {
      "needs_background": "light"
     },
     "output_type": "display_data"
    }
   ],
   "source": [
    "sns.heatmap(df_train.isnull())"
   ]
  },
  {
   "cell_type": "code",
   "execution_count": 18,
   "id": "modern-surrey",
   "metadata": {},
   "outputs": [
    {
     "name": "stdout",
     "output_type": "stream",
     "text": [
      "UserName            0\n",
      "ScreenName          0\n",
      "Location         8590\n",
      "TweetAt             0\n",
      "OriginalTweet       0\n",
      "Sentiment           0\n",
      "dtype: int64\n",
      "> As we can see, there are missing values just on Location column\n"
     ]
    }
   ],
   "source": [
    "print(df_train.isnull().sum())\n",
    "print(\"> As we can see, there are missing values just on Location column\")"
   ]
  },
  {
   "cell_type": "markdown",
   "id": "returning-receiver",
   "metadata": {},
   "source": [
    "##### Original Tweets"
   ]
  },
  {
   "cell_type": "code",
   "execution_count": null,
   "id": "failing-interval",
   "metadata": {},
   "outputs": [],
   "source": [
    "df_train['OriginalTweet'] = df_train['OriginalTweet'].astype(str)\n",
    "df_test['OriginalTweet'] = df_train['OriginalTweet'].astype(str)\n",
    "combined_data['OriginalTweet'] = df_train['OriginalTweet'].astype(str)"
   ]
  },
  {
   "cell_type": "code",
   "execution_count": 44,
   "id": "qualified-monaco",
   "metadata": {},
   "outputs": [
    {
     "name": "stdout",
     "output_type": "stream",
     "text": [
      "Number of urls in tweets  24012\n",
      "Number of html tag in tweets  0\n",
      "Number of mentions in tweets  17575\n",
      "Number of hastags in tweets  81151\n",
      "Number of digits in tweets  79640\n"
     ]
    }
   ],
   "source": [
    "# Check tweets has some unnecessary words. Find if exists and count\n",
    "re_urls = r'http\\S+'\n",
    "re_html = r'<.*?>'\n",
    "re_mentions = r'@\\w+' \n",
    "re_hastags = r'#\\w+'\n",
    "re_digits = r'\\d+'\n",
    "\n",
    "print(\"Number of urls in tweets \", df_train['OriginalTweet'].str.count(re_urls).sum())\n",
    "print(\"Number of html tag in tweets \", df_train['OriginalTweet'].str.count(re_html).sum())\n",
    "print(\"Number of mentions in tweets \", df_train['OriginalTweet'].str.count(re_mentions).sum())\n",
    "print(\"Number of hastags in tweets \", df_train['OriginalTweet'].str.count(re_hastags).sum())\n",
    "print(\"Number of digits in tweets \", df_train['OriginalTweet'].str.count(re_digits).sum())"
   ]
  },
  {
   "cell_type": "code",
   "execution_count": null,
   "id": "accepted-emerald",
   "metadata": {},
   "outputs": [],
   "source": [
    "# remove unnecessary words that cannot effect classification\n",
    "def remove_words(text):\n",
    "    #remove urls\n",
    "    text = re.sub(re_urls, \"\", text)\n",
    "    #remove html tags\n",
    "    text = re.sub(re_html,'', text)\n",
    "    #remove mentions\n",
    "    text = re.sub(re_mentions,' ',text)\n",
    "    #remove hastags\n",
    "    text = re.sub(re_hastags, ' ', text)\n",
    "    #remove digits\n",
    "    text = re.sub(re_digits, ' ', text)\n",
    "    \n",
    "    return text\n",
    "\n",
    "df_train['OriginalTweet'] = df_train['OriginalTweet'].apply(lambda x: remove_words(x))\n",
    "df_test['OriginalTweet'] = df_test['OriginalTweet'].apply(lambda x: remove_words(x))\n",
    "combined_data['OriginalTweet'] = combined_data['OriginalTweet'].apply(lambda x: remove_words(x))"
   ]
  },
  {
   "cell_type": "markdown",
   "id": "closing-causing",
   "metadata": {},
   "source": [
    "##### Sentiments"
   ]
  },
  {
   "cell_type": "code",
   "execution_count": 6,
   "id": "fatty-intersection",
   "metadata": {},
   "outputs": [
    {
     "data": {
      "text/plain": [
       "Positive              11422\n",
       "Negative               9917\n",
       "Neutral                7713\n",
       "Extremely Positive     6624\n",
       "Extremely Negative     5481\n",
       "Name: Sentiment, dtype: int64"
      ]
     },
     "execution_count": 6,
     "metadata": {},
     "output_type": "execute_result"
    }
   ],
   "source": [
    "### check target distribution on training data set\n",
    "df_train['Sentiment'].value_counts()"
   ]
  },
  {
   "cell_type": "code",
   "execution_count": 7,
   "id": "union-waterproof",
   "metadata": {},
   "outputs": [],
   "source": [
    "def convertSentiment(sentiment):\n",
    "    if sentiment == 'Extremely Positive':\n",
    "        return 'Positive'\n",
    "    elif sentiment == 'Extremely Negative':\n",
    "        return 'Negative'\n",
    "    else:\n",
    "        return sentiment\n",
    "    \n",
    "df_train['Sentiment'] = df_train['Sentiment'].apply(lambda x:convertSentiment(x))\n",
    "df_test['Sentiment'] = df_train['Sentiment'].apply(lambda x:convertSentiment(x))\n",
    "combined_data['Sentiment'] = df_train['Sentiment'].apply(lambda x:convertSentiment(x))"
   ]
  },
  {
   "cell_type": "code",
   "execution_count": 8,
   "id": "trying-detective",
   "metadata": {},
   "outputs": [
    {
     "data": {
      "text/plain": [
       "Positive    18046\n",
       "Negative    15398\n",
       "Neutral      7713\n",
       "Name: Sentiment, dtype: int64"
      ]
     },
     "execution_count": 8,
     "metadata": {},
     "output_type": "execute_result"
    }
   ],
   "source": [
    "# let's check again distribution of sentiments\n",
    "df_train['Sentiment'].value_counts()"
   ]
  },
  {
   "cell_type": "code",
   "execution_count": null,
   "id": "swedish-bradford",
   "metadata": {},
   "outputs": [],
   "source": []
  },
  {
   "cell_type": "code",
   "execution_count": null,
   "id": "matched-optimum",
   "metadata": {},
   "outputs": [],
   "source": []
  },
  {
   "cell_type": "code",
   "execution_count": null,
   "id": "bibliographic-impossible",
   "metadata": {},
   "outputs": [],
   "source": []
  },
  {
   "cell_type": "code",
   "execution_count": null,
   "id": "white-lottery",
   "metadata": {},
   "outputs": [],
   "source": []
  },
  {
   "cell_type": "code",
   "execution_count": null,
   "id": "sought-wednesday",
   "metadata": {},
   "outputs": [],
   "source": []
  },
  {
   "cell_type": "code",
   "execution_count": null,
   "id": "dirty-terrace",
   "metadata": {},
   "outputs": [],
   "source": []
  }
 ],
 "metadata": {
  "kernelspec": {
   "display_name": "Python 3",
   "language": "python",
   "name": "python3"
  },
  "language_info": {
   "codemirror_mode": {
    "name": "ipython",
    "version": 3
   },
   "file_extension": ".py",
   "mimetype": "text/x-python",
   "name": "python",
   "nbconvert_exporter": "python",
   "pygments_lexer": "ipython3",
   "version": "3.9.2"
  }
 },
 "nbformat": 4,
 "nbformat_minor": 5
}
