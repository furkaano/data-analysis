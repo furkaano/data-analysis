{
 "cells": [
  {
   "cell_type": "markdown",
   "id": "fatal-quarterly",
   "metadata": {},
   "source": [
    "## WOMENS CLOTHES E-COMMERCE REVIEWS"
   ]
  },
  {
   "cell_type": "code",
   "execution_count": 50,
   "id": "preceding-technique",
   "metadata": {},
   "outputs": [],
   "source": [
    "import pandas as pd\n",
    "import numpy as np\n",
    "import matplotlib.pyplot as plt\n",
    "import seaborn as sns\n",
    "import regex as re"
   ]
  },
  {
   "cell_type": "code",
   "execution_count": 2,
   "id": "minute-medium",
   "metadata": {},
   "outputs": [
    {
     "data": {
      "text/html": [
       "<div>\n",
       "<style scoped>\n",
       "    .dataframe tbody tr th:only-of-type {\n",
       "        vertical-align: middle;\n",
       "    }\n",
       "\n",
       "    .dataframe tbody tr th {\n",
       "        vertical-align: top;\n",
       "    }\n",
       "\n",
       "    .dataframe thead th {\n",
       "        text-align: right;\n",
       "    }\n",
       "</style>\n",
       "<table border=\"1\" class=\"dataframe\">\n",
       "  <thead>\n",
       "    <tr style=\"text-align: right;\">\n",
       "      <th></th>\n",
       "      <th>Unnamed: 0</th>\n",
       "      <th>Clothing ID</th>\n",
       "      <th>Age</th>\n",
       "      <th>Title</th>\n",
       "      <th>Review Text</th>\n",
       "      <th>Rating</th>\n",
       "      <th>Recommended IND</th>\n",
       "      <th>Positive Feedback Count</th>\n",
       "      <th>Division Name</th>\n",
       "      <th>Department Name</th>\n",
       "      <th>Class Name</th>\n",
       "    </tr>\n",
       "  </thead>\n",
       "  <tbody>\n",
       "    <tr>\n",
       "      <th>0</th>\n",
       "      <td>0</td>\n",
       "      <td>767</td>\n",
       "      <td>33</td>\n",
       "      <td>NaN</td>\n",
       "      <td>Absolutely wonderful - silky and sexy and comf...</td>\n",
       "      <td>4</td>\n",
       "      <td>1</td>\n",
       "      <td>0</td>\n",
       "      <td>Initmates</td>\n",
       "      <td>Intimate</td>\n",
       "      <td>Intimates</td>\n",
       "    </tr>\n",
       "    <tr>\n",
       "      <th>1</th>\n",
       "      <td>1</td>\n",
       "      <td>1080</td>\n",
       "      <td>34</td>\n",
       "      <td>NaN</td>\n",
       "      <td>Love this dress!  it's sooo pretty.  i happene...</td>\n",
       "      <td>5</td>\n",
       "      <td>1</td>\n",
       "      <td>4</td>\n",
       "      <td>General</td>\n",
       "      <td>Dresses</td>\n",
       "      <td>Dresses</td>\n",
       "    </tr>\n",
       "    <tr>\n",
       "      <th>2</th>\n",
       "      <td>2</td>\n",
       "      <td>1077</td>\n",
       "      <td>60</td>\n",
       "      <td>Some major design flaws</td>\n",
       "      <td>I had such high hopes for this dress and reall...</td>\n",
       "      <td>3</td>\n",
       "      <td>0</td>\n",
       "      <td>0</td>\n",
       "      <td>General</td>\n",
       "      <td>Dresses</td>\n",
       "      <td>Dresses</td>\n",
       "    </tr>\n",
       "    <tr>\n",
       "      <th>3</th>\n",
       "      <td>3</td>\n",
       "      <td>1049</td>\n",
       "      <td>50</td>\n",
       "      <td>My favorite buy!</td>\n",
       "      <td>I love, love, love this jumpsuit. it's fun, fl...</td>\n",
       "      <td>5</td>\n",
       "      <td>1</td>\n",
       "      <td>0</td>\n",
       "      <td>General Petite</td>\n",
       "      <td>Bottoms</td>\n",
       "      <td>Pants</td>\n",
       "    </tr>\n",
       "    <tr>\n",
       "      <th>4</th>\n",
       "      <td>4</td>\n",
       "      <td>847</td>\n",
       "      <td>47</td>\n",
       "      <td>Flattering shirt</td>\n",
       "      <td>This shirt is very flattering to all due to th...</td>\n",
       "      <td>5</td>\n",
       "      <td>1</td>\n",
       "      <td>6</td>\n",
       "      <td>General</td>\n",
       "      <td>Tops</td>\n",
       "      <td>Blouses</td>\n",
       "    </tr>\n",
       "  </tbody>\n",
       "</table>\n",
       "</div>"
      ],
      "text/plain": [
       "   Unnamed: 0  Clothing ID  Age                    Title  \\\n",
       "0           0          767   33                      NaN   \n",
       "1           1         1080   34                      NaN   \n",
       "2           2         1077   60  Some major design flaws   \n",
       "3           3         1049   50         My favorite buy!   \n",
       "4           4          847   47         Flattering shirt   \n",
       "\n",
       "                                         Review Text  Rating  Recommended IND  \\\n",
       "0  Absolutely wonderful - silky and sexy and comf...       4                1   \n",
       "1  Love this dress!  it's sooo pretty.  i happene...       5                1   \n",
       "2  I had such high hopes for this dress and reall...       3                0   \n",
       "3  I love, love, love this jumpsuit. it's fun, fl...       5                1   \n",
       "4  This shirt is very flattering to all due to th...       5                1   \n",
       "\n",
       "   Positive Feedback Count   Division Name Department Name Class Name  \n",
       "0                        0       Initmates        Intimate  Intimates  \n",
       "1                        4         General         Dresses    Dresses  \n",
       "2                        0         General         Dresses    Dresses  \n",
       "3                        0  General Petite         Bottoms      Pants  \n",
       "4                        6         General            Tops    Blouses  "
      ]
     },
     "execution_count": 2,
     "metadata": {},
     "output_type": "execute_result"
    }
   ],
   "source": [
    "data = pd.read_csv('womens_clothing_reviews.csv')\n",
    "data.head()"
   ]
  },
  {
   "cell_type": "markdown",
   "id": "fewer-compatibility",
   "metadata": {},
   "source": [
    "#### SOME BASIC ANALYSIS"
   ]
  },
  {
   "cell_type": "code",
   "execution_count": 3,
   "id": "stone-durham",
   "metadata": {},
   "outputs": [
    {
     "name": "stdout",
     "output_type": "stream",
     "text": [
      "Number of rows :  23486\n",
      "Number of columns :  11\n"
     ]
    }
   ],
   "source": [
    "print('Number of rows : ', data.shape[0])\n",
    "print('Number of columns : ', data.shape[1])"
   ]
  },
  {
   "cell_type": "code",
   "execution_count": 4,
   "id": "critical-decision",
   "metadata": {},
   "outputs": [
    {
     "name": "stdout",
     "output_type": "stream",
     "text": [
      "Information of columns\n",
      "<class 'pandas.core.frame.DataFrame'>\n",
      "RangeIndex: 23486 entries, 0 to 23485\n",
      "Data columns (total 11 columns):\n",
      " #   Column                   Non-Null Count  Dtype \n",
      "---  ------                   --------------  ----- \n",
      " 0   Unnamed: 0               23486 non-null  int64 \n",
      " 1   Clothing ID              23486 non-null  int64 \n",
      " 2   Age                      23486 non-null  int64 \n",
      " 3   Title                    19676 non-null  object\n",
      " 4   Review Text              22641 non-null  object\n",
      " 5   Rating                   23486 non-null  int64 \n",
      " 6   Recommended IND          23486 non-null  int64 \n",
      " 7   Positive Feedback Count  23486 non-null  int64 \n",
      " 8   Division Name            23472 non-null  object\n",
      " 9   Department Name          23472 non-null  object\n",
      " 10  Class Name               23472 non-null  object\n",
      "dtypes: int64(6), object(5)\n",
      "memory usage: 2.0+ MB\n"
     ]
    }
   ],
   "source": [
    "print('Information of columns')\n",
    "data.info()"
   ]
  },
  {
   "cell_type": "code",
   "execution_count": 5,
   "id": "indonesian-engine",
   "metadata": {},
   "outputs": [
    {
     "name": "stdout",
     "output_type": "stream",
     "text": [
      "Null values of columns\n"
     ]
    },
    {
     "data": {
      "text/plain": [
       "Unnamed: 0                    0\n",
       "Clothing ID                   0\n",
       "Age                           0\n",
       "Title                      3810\n",
       "Review Text                 845\n",
       "Rating                        0\n",
       "Recommended IND               0\n",
       "Positive Feedback Count       0\n",
       "Division Name                14\n",
       "Department Name              14\n",
       "Class Name                   14\n",
       "dtype: int64"
      ]
     },
     "execution_count": 5,
     "metadata": {},
     "output_type": "execute_result"
    }
   ],
   "source": [
    "print('Null values of columns')\n",
    "data.isna().sum()"
   ]
  },
  {
   "cell_type": "code",
   "execution_count": 6,
   "id": "velvet-pakistan",
   "metadata": {},
   "outputs": [
    {
     "name": "stdout",
     "output_type": "stream",
     "text": [
      "Duplicate values of columns\n"
     ]
    },
    {
     "data": {
      "text/plain": [
       "False    23486\n",
       "dtype: int64"
      ]
     },
     "execution_count": 6,
     "metadata": {},
     "output_type": "execute_result"
    }
   ],
   "source": [
    "print('Duplicate values of columns')\n",
    "data.duplicated().value_counts()"
   ]
  },
  {
   "cell_type": "code",
   "execution_count": 7,
   "id": "robust-blogger",
   "metadata": {},
   "outputs": [
    {
     "name": "stdout",
     "output_type": "stream",
     "text": [
      "Unique values of some columns\n",
      "Division Name unique values :  ['Initmates' 'General' 'General Petite' nan]\n",
      "Department Name unique values :  ['Intimate' 'Dresses' 'Bottoms' 'Tops' 'Jackets' 'Trend' nan]\n",
      "Class Name unique values :  ['Intimates' 'Dresses' 'Pants' 'Blouses' 'Knits' 'Outerwear' 'Lounge'\n",
      " 'Sweaters' 'Skirts' 'Fine gauge' 'Sleep' 'Jackets' 'Swim' 'Trend' 'Jeans'\n",
      " 'Legwear' 'Shorts' 'Layering' 'Casual bottoms' nan 'Chemises']\n"
     ]
    }
   ],
   "source": [
    "print('Unique values of some columns')\n",
    "print('Division Name unique values : ', data['Division Name'].unique())\n",
    "print('Department Name unique values : ', data['Department Name'].unique())\n",
    "print('Class Name unique values : ', data['Class Name'].unique())"
   ]
  },
  {
   "cell_type": "markdown",
   "id": "color-violence",
   "metadata": {},
   "source": [
    "### RENAME COLUMNS"
   ]
  },
  {
   "cell_type": "code",
   "execution_count": 8,
   "id": "sized-friendly",
   "metadata": {},
   "outputs": [],
   "source": [
    "data = data.rename(columns={\"Review Text\": \"review\", \"Recommended IND\": \"recommended\",\n",
    "                            \"Clothing ID\": \"cloth_id\", \"Positive Feedback Count\": \"feedbacks\",\n",
    "                            \"Division Name\": \"division\", \"Department Name\": \"department\",\n",
    "                            \"Class Name\": \"class\", \"Rating\": \"rating\", \"Age\": \"age\",\n",
    "                            \"Title\": \"title\"})"
   ]
  },
  {
   "cell_type": "code",
   "execution_count": 9,
   "id": "powerful-reservoir",
   "metadata": {},
   "outputs": [
    {
     "data": {
      "text/plain": [
       "Index(['Unnamed: 0', 'cloth_id', 'age', 'title', 'review', 'rating',\n",
       "       'recommended', 'feedbacks', 'division', 'department', 'class'],\n",
       "      dtype='object')"
      ]
     },
     "execution_count": 9,
     "metadata": {},
     "output_type": "execute_result"
    }
   ],
   "source": [
    "data.columns"
   ]
  },
  {
   "cell_type": "markdown",
   "id": "careful-technology",
   "metadata": {},
   "source": [
    "### SOME DETAIL ANALYSIS OF COLUMNS"
   ]
  },
  {
   "cell_type": "markdown",
   "id": "premium-egyptian",
   "metadata": {},
   "source": [
    "**UNNAMED: 0**"
   ]
  },
  {
   "cell_type": "code",
   "execution_count": 10,
   "id": "pressed-messaging",
   "metadata": {},
   "outputs": [
    {
     "data": {
      "text/plain": [
       "0            0\n",
       "1            1\n",
       "2            2\n",
       "3            3\n",
       "4            4\n",
       "         ...  \n",
       "23481    23481\n",
       "23482    23482\n",
       "23483    23483\n",
       "23484    23484\n",
       "23485    23485\n",
       "Name: Unnamed: 0, Length: 23486, dtype: int64"
      ]
     },
     "execution_count": 10,
     "metadata": {},
     "output_type": "execute_result"
    }
   ],
   "source": [
    "data['Unnamed: 0']"
   ]
  },
  {
   "cell_type": "markdown",
   "id": "little-anime",
   "metadata": {},
   "source": [
    "Unnecessary unique values in that column"
   ]
  },
  {
   "cell_type": "code",
   "execution_count": 11,
   "id": "serious-swift",
   "metadata": {},
   "outputs": [],
   "source": [
    "data.drop('Unnamed: 0', axis=1, inplace=True)"
   ]
  },
  {
   "cell_type": "markdown",
   "id": "christian-capacity",
   "metadata": {},
   "source": [
    "**CLOTHING ID**"
   ]
  },
  {
   "cell_type": "code",
   "execution_count": 12,
   "id": "efficient-renewal",
   "metadata": {},
   "outputs": [
    {
     "data": {
      "text/plain": [
       "1206"
      ]
     },
     "execution_count": 12,
     "metadata": {},
     "output_type": "execute_result"
    }
   ],
   "source": [
    "data['cloth_id'].nunique()"
   ]
  },
  {
   "cell_type": "markdown",
   "id": "silver-draft",
   "metadata": {},
   "source": [
    "There's also too much distinct value "
   ]
  },
  {
   "cell_type": "code",
   "execution_count": 13,
   "id": "roman-cemetery",
   "metadata": {},
   "outputs": [],
   "source": [
    "data.drop('cloth_id', axis=1, inplace=True)"
   ]
  },
  {
   "cell_type": "markdown",
   "id": "practical-proposition",
   "metadata": {},
   "source": [
    "**REVIEW TEXT**"
   ]
  },
  {
   "cell_type": "code",
   "execution_count": 14,
   "id": "little-shelter",
   "metadata": {},
   "outputs": [
    {
     "data": {
      "text/plain": [
       "0        Absolutely wonderful - silky and sexy and comf...\n",
       "1        Love this dress!  it's sooo pretty.  i happene...\n",
       "2        I had such high hopes for this dress and reall...\n",
       "3        I love, love, love this jumpsuit. it's fun, fl...\n",
       "4        This shirt is very flattering to all due to th...\n",
       "                               ...                        \n",
       "23481    I was very happy to snag this dress at such a ...\n",
       "23482    It reminds me of maternity clothes. soft, stre...\n",
       "23483    This fit well, but the top was very see throug...\n",
       "23484    I bought this dress for a wedding i have this ...\n",
       "23485    This dress in a lovely platinum is feminine an...\n",
       "Name: review, Length: 23486, dtype: object"
      ]
     },
     "execution_count": 14,
     "metadata": {},
     "output_type": "execute_result"
    }
   ],
   "source": [
    "data['review']"
   ]
  },
  {
   "cell_type": "markdown",
   "id": "third-blocking",
   "metadata": {},
   "source": [
    "Will detailly analyzed ( punctiations, stopwords, unnecessary text)"
   ]
  },
  {
   "cell_type": "markdown",
   "id": "acceptable-aquarium",
   "metadata": {},
   "source": [
    "**RECOMMENDED IND**"
   ]
  },
  {
   "cell_type": "code",
   "execution_count": 15,
   "id": "biological-subcommittee",
   "metadata": {},
   "outputs": [
    {
     "data": {
      "text/plain": [
       "1    19314\n",
       "0     4172\n",
       "Name: recommended, dtype: int64"
      ]
     },
     "execution_count": 15,
     "metadata": {},
     "output_type": "execute_result"
    }
   ],
   "source": [
    "data['recommended'].value_counts()"
   ]
  },
  {
   "cell_type": "code",
   "execution_count": 16,
   "id": "complete-generation",
   "metadata": {},
   "outputs": [
    {
     "name": "stderr",
     "output_type": "stream",
     "text": [
      "C:\\Users\\burak\\AppData\\Roaming\\Python\\Python39\\site-packages\\seaborn\\_decorators.py:36: FutureWarning: Pass the following variable as a keyword arg: x. From version 0.12, the only valid positional argument will be `data`, and passing other arguments without an explicit keyword will result in an error or misinterpretation.\n",
      "  warnings.warn(\n"
     ]
    },
    {
     "data": {
      "text/plain": [
       "<AxesSubplot:xlabel='recommended', ylabel='count'>"
      ]
     },
     "execution_count": 16,
     "metadata": {},
     "output_type": "execute_result"
    },
    {
     "data": {
      "image/png": "[encoded data removed]",
      "text/plain": [
       "<Figure size 432x288 with 1 Axes>"
      ]
     },
     "metadata": {
      "needs_background": "light"
     },
     "output_type": "display_data"
    }
   ],
   "source": [
    "sns.countplot(data['recommended'])"
   ]
  },
  {
   "cell_type": "code",
   "execution_count": 17,
   "id": "heated-funds",
   "metadata": {},
   "outputs": [
    {
     "data": {
      "image/png": "[encoded data removed]",
      "text/plain": [
       "<Figure size 1008x432 with 2 Axes>"
      ]
     },
     "metadata": {
      "needs_background": "light"
     },
     "output_type": "display_data"
    }
   ],
   "source": [
    "fig, axes = plt.subplots(nrows=1, ncols=2, figsize=(14,6), constrained_layout=True, sharey=True)\n",
    "\n",
    "#Graphs\n",
    "age_recommended = sns.histplot(data=data[data['recommended']==1], x='age', bins=30, ax=axes[1])\n",
    "age_not_recommended = sns.histplot(data=data[data['recommended']==0], x='age', bins=30, ax=axes[0])\n",
    "\n",
    "figtitle = fig.suptitle('Recommendation by Age',fontsize=24)\n",
    "axeszero_title = axes[0].set_title('NOT RECOMMENDED', fontsize=14)\n",
    "axesone_title = axes[1].set_title('RECOMMENDED', fontsize=14)\n",
    "plt.show()"
   ]
  },
  {
   "cell_type": "markdown",
   "id": "transparent-pasta",
   "metadata": {},
   "source": [
    "**POSITIVE FEEDBACK COUNT**"
   ]
  },
  {
   "cell_type": "code",
   "execution_count": 18,
   "id": "allied-reynolds",
   "metadata": {},
   "outputs": [
    {
     "data": {
      "text/plain": [
       "0      11176\n",
       "1       4043\n",
       "2       2193\n",
       "3       1433\n",
       "4        922\n",
       "       ...  \n",
       "94         1\n",
       "117        1\n",
       "71         1\n",
       "84         1\n",
       "59         1\n",
       "Name: feedbacks, Length: 82, dtype: int64"
      ]
     },
     "execution_count": 18,
     "metadata": {},
     "output_type": "execute_result"
    }
   ],
   "source": [
    "data['feedbacks'].value_counts()"
   ]
  },
  {
   "cell_type": "code",
   "execution_count": 19,
   "id": "solar-connection",
   "metadata": {},
   "outputs": [
    {
     "data": {
      "text/plain": [
       "<AxesSubplot:>"
      ]
     },
     "execution_count": 19,
     "metadata": {},
     "output_type": "execute_result"
    },
    {
     "data": {
      "image/png": "[encoded data removed]",
      "text/plain": [
       "<Figure size 432x288 with 2 Axes>"
      ]
     },
     "metadata": {
      "needs_background": "light"
     },
     "output_type": "display_data"
    }
   ],
   "source": [
    "# calculate the correlation matrix\n",
    "corr = data[['recommended', 'feedbacks']].corr()\n",
    "\n",
    "# plot the heatmap\n",
    "sns.heatmap(corr, \n",
    "        xticklabels=corr.columns,\n",
    "        yticklabels=corr.columns,\n",
    "        annot = True, \n",
    "        fmt = \".2f\")"
   ]
  },
  {
   "cell_type": "markdown",
   "id": "equipped-reverse",
   "metadata": {},
   "source": [
    "**DIVISION NAME**"
   ]
  },
  {
   "cell_type": "code",
   "execution_count": 20,
   "id": "disturbed-bradley",
   "metadata": {},
   "outputs": [
    {
     "data": {
      "text/plain": [
       "General           13850\n",
       "General Petite     8120\n",
       "Initmates          1502\n",
       "Name: division, dtype: int64"
      ]
     },
     "execution_count": 20,
     "metadata": {},
     "output_type": "execute_result"
    }
   ],
   "source": [
    "data['division'].value_counts()"
   ]
  },
  {
   "cell_type": "code",
   "execution_count": 21,
   "id": "neural-supply",
   "metadata": {},
   "outputs": [
    {
     "name": "stderr",
     "output_type": "stream",
     "text": [
      "C:\\Users\\burak\\AppData\\Roaming\\Python\\Python39\\site-packages\\seaborn\\_decorators.py:36: FutureWarning: Pass the following variable as a keyword arg: x. From version 0.12, the only valid positional argument will be `data`, and passing other arguments without an explicit keyword will result in an error or misinterpretation.\n",
      "  warnings.warn(\n"
     ]
    },
    {
     "data": {
      "text/plain": [
       "<AxesSubplot:xlabel='division', ylabel='count'>"
      ]
     },
     "execution_count": 21,
     "metadata": {},
     "output_type": "execute_result"
    },
    {
     "data": {
      "image/png": "[encoded data removed]",
      "text/plain": [
       "<Figure size 432x288 with 1 Axes>"
      ]
     },
     "metadata": {
      "needs_background": "light"
     },
     "output_type": "display_data"
    }
   ],
   "source": [
    "sns.countplot(data['division'])"
   ]
  },
  {
   "cell_type": "markdown",
   "id": "falling-greeting",
   "metadata": {},
   "source": [
    "**DEPARTMENT NAME**"
   ]
  },
  {
   "cell_type": "code",
   "execution_count": 22,
   "id": "faced-party",
   "metadata": {},
   "outputs": [
    {
     "data": {
      "text/plain": [
       "Tops        10468\n",
       "Dresses      6319\n",
       "Bottoms      3799\n",
       "Intimate     1735\n",
       "Jackets      1032\n",
       "Trend         119\n",
       "Name: department, dtype: int64"
      ]
     },
     "execution_count": 22,
     "metadata": {},
     "output_type": "execute_result"
    }
   ],
   "source": [
    "data['department'].value_counts()"
   ]
  },
  {
   "cell_type": "code",
   "execution_count": 23,
   "id": "smoking-drove",
   "metadata": {},
   "outputs": [
    {
     "name": "stderr",
     "output_type": "stream",
     "text": [
      "C:\\Users\\burak\\AppData\\Roaming\\Python\\Python39\\site-packages\\seaborn\\_decorators.py:36: FutureWarning: Pass the following variable as a keyword arg: x. From version 0.12, the only valid positional argument will be `data`, and passing other arguments without an explicit keyword will result in an error or misinterpretation.\n",
      "  warnings.warn(\n"
     ]
    },
    {
     "data": {
      "text/plain": [
       "<AxesSubplot:xlabel='department', ylabel='count'>"
      ]
     },
     "execution_count": 23,
     "metadata": {},
     "output_type": "execute_result"
    },
    {
     "data": {
      "image/png": "[encoded data removed]",
      "text/plain": [
       "<Figure size 432x288 with 1 Axes>"
      ]
     },
     "metadata": {
      "needs_background": "light"
     },
     "output_type": "display_data"
    }
   ],
   "source": [
    "sns.countplot(data['department'])"
   ]
  },
  {
   "cell_type": "markdown",
   "id": "geographic-egypt",
   "metadata": {},
   "source": [
    "**CLASS NAME**"
   ]
  },
  {
   "cell_type": "code",
   "execution_count": 24,
   "id": "defined-scanner",
   "metadata": {},
   "outputs": [
    {
     "data": {
      "text/plain": [
       "Dresses           6319\n",
       "Knits             4843\n",
       "Blouses           3097\n",
       "Sweaters          1428\n",
       "Pants             1388\n",
       "Jeans             1147\n",
       "Fine gauge        1100\n",
       "Skirts             945\n",
       "Jackets            704\n",
       "Lounge             691\n",
       "Swim               350\n",
       "Outerwear          328\n",
       "Shorts             317\n",
       "Sleep              228\n",
       "Legwear            165\n",
       "Intimates          154\n",
       "Layering           146\n",
       "Trend              119\n",
       "Casual bottoms       2\n",
       "Chemises             1\n",
       "Name: class, dtype: int64"
      ]
     },
     "execution_count": 24,
     "metadata": {},
     "output_type": "execute_result"
    }
   ],
   "source": [
    "data['class'].value_counts()"
   ]
  },
  {
   "cell_type": "markdown",
   "id": "filled-tokyo",
   "metadata": {},
   "source": [
    "Some merge operations would be nice"
   ]
  },
  {
   "cell_type": "markdown",
   "id": "premier-creativity",
   "metadata": {},
   "source": [
    "**RATING**"
   ]
  },
  {
   "cell_type": "code",
   "execution_count": 25,
   "id": "focused-beatles",
   "metadata": {},
   "outputs": [
    {
     "data": {
      "text/plain": [
       "5    13131\n",
       "4     5077\n",
       "3     2871\n",
       "2     1565\n",
       "1      842\n",
       "Name: rating, dtype: int64"
      ]
     },
     "execution_count": 25,
     "metadata": {},
     "output_type": "execute_result"
    }
   ],
   "source": [
    "data['rating'].value_counts()"
   ]
  },
  {
   "cell_type": "code",
   "execution_count": 34,
   "id": "criminal-quick",
   "metadata": {},
   "outputs": [
    {
     "name": "stderr",
     "output_type": "stream",
     "text": [
      "C:\\Users\\burak\\AppData\\Roaming\\Python\\Python39\\site-packages\\seaborn\\_decorators.py:36: FutureWarning: Pass the following variable as a keyword arg: x. From version 0.12, the only valid positional argument will be `data`, and passing other arguments without an explicit keyword will result in an error or misinterpretation.\n",
      "  warnings.warn(\n"
     ]
    },
    {
     "data": {
      "text/plain": [
       "<AxesSubplot:xlabel='rating', ylabel='count'>"
      ]
     },
     "execution_count": 34,
     "metadata": {},
     "output_type": "execute_result"
    },
    {
     "data": {
      "image/png": "[encoded data removed]",
      "text/plain": [
       "<Figure size 432x288 with 1 Axes>"
      ]
     },
     "metadata": {
      "needs_background": "light"
     },
     "output_type": "display_data"
    }
   ],
   "source": [
    "sns.countplot(data['rating'])"
   ]
  },
  {
   "cell_type": "code",
   "execution_count": 26,
   "id": "assured-linux",
   "metadata": {},
   "outputs": [
    {
     "data": {
      "text/plain": [
       "<AxesSubplot:>"
      ]
     },
     "execution_count": 26,
     "metadata": {},
     "output_type": "execute_result"
    },
    {
     "data": {
      "image/png": "[encoded data removed]",
      "text/plain": [
       "<Figure size 432x288 with 2 Axes>"
      ]
     },
     "metadata": {
      "needs_background": "light"
     },
     "output_type": "display_data"
    }
   ],
   "source": [
    "# calculate the correlation matrix\n",
    "corr = data[['recommended', 'rating']].corr()\n",
    "\n",
    "# plot the heatmap\n",
    "sns.heatmap(corr, \n",
    "        xticklabels=corr.columns,\n",
    "        yticklabels=corr.columns,\n",
    "        annot = True, \n",
    "        fmt = \".2f\")"
   ]
  },
  {
   "cell_type": "markdown",
   "id": "radio-spanking",
   "metadata": {},
   "source": [
    "**AGE**"
   ]
  },
  {
   "cell_type": "code",
   "execution_count": 27,
   "id": "bottom-mathematics",
   "metadata": {},
   "outputs": [
    {
     "data": {
      "text/plain": [
       "39    1269\n",
       "35     909\n",
       "36     842\n",
       "34     804\n",
       "38     780\n",
       "      ... \n",
       "93       2\n",
       "90       2\n",
       "86       2\n",
       "99       2\n",
       "92       1\n",
       "Name: age, Length: 77, dtype: int64"
      ]
     },
     "execution_count": 27,
     "metadata": {},
     "output_type": "execute_result"
    }
   ],
   "source": [
    "data['age'].value_counts()"
   ]
  },
  {
   "cell_type": "markdown",
   "id": "liable-cricket",
   "metadata": {},
   "source": [
    "Most probably unnecessary"
   ]
  },
  {
   "cell_type": "markdown",
   "id": "aware-leisure",
   "metadata": {},
   "source": [
    "**TITLE**"
   ]
  },
  {
   "cell_type": "code",
   "execution_count": 28,
   "id": "spiritual-desire",
   "metadata": {},
   "outputs": [
    {
     "data": {
      "text/plain": [
       "Love it!                                   136\n",
       "Beautiful                                   95\n",
       "Love                                        88\n",
       "Love!                                       84\n",
       "Beautiful!                                  72\n",
       "                                          ... \n",
       "Perfect transition dress                     1\n",
       "The perfect spring dress!                    1\n",
       "Super soft but can make you look frumpy      1\n",
       "More structured than a cardi                 1\n",
       "Please make more like this one!              1\n",
       "Name: title, Length: 13993, dtype: int64"
      ]
     },
     "execution_count": 28,
     "metadata": {},
     "output_type": "execute_result"
    }
   ],
   "source": [
    "data['title'].value_counts()"
   ]
  },
  {
   "cell_type": "markdown",
   "id": "alone-converter",
   "metadata": {},
   "source": [
    "Would be so useful"
   ]
  },
  {
   "cell_type": "markdown",
   "id": "animated-thanks",
   "metadata": {},
   "source": [
    "**SOME NEW FEATURES**"
   ]
  },
  {
   "cell_type": "markdown",
   "id": "offensive-suspect",
   "metadata": {},
   "source": [
    "* Length of the reviews"
   ]
  },
  {
   "cell_type": "code",
   "execution_count": 43,
   "id": "reflected-allowance",
   "metadata": {},
   "outputs": [],
   "source": [
    "data[\"length_reviews\"] = data[\"review\"].str.len()"
   ]
  },
  {
   "cell_type": "code",
   "execution_count": 45,
   "id": "cutting-analysis",
   "metadata": {},
   "outputs": [
    {
     "data": {
      "text/plain": [
       "False    22641\n",
       "True       845\n",
       "Name: length_reviews, dtype: int64"
      ]
     },
     "execution_count": 45,
     "metadata": {},
     "output_type": "execute_result"
    }
   ],
   "source": [
    "# some NAN and float object appears\n",
    "data[\"length_reviews\"].isna().value_counts()"
   ]
  },
  {
   "cell_type": "code",
   "execution_count": 47,
   "id": "relevant-alliance",
   "metadata": {},
   "outputs": [
    {
     "data": {
      "text/plain": [
       "<seaborn.axisgrid.FacetGrid at 0x1b08b2c2f70>"
      ]
     },
     "execution_count": 47,
     "metadata": {},
     "output_type": "execute_result"
    },
    {
     "data": {
      "image/png": "[encoded data removed]",
      "text/plain": [
       "<Figure size 1080x216 with 5 Axes>"
      ]
     },
     "metadata": {
      "needs_background": "light"
     },
     "output_type": "display_data"
    }
   ],
   "source": [
    "# check realtionship between length of reviews and rating\n",
    "d = sns.FacetGrid(data, col='rating')\n",
    "d.map(plt.hist,'length_reviews',bins=30)"
   ]
  },
  {
   "cell_type": "markdown",
   "id": "norman-biotechnology",
   "metadata": {},
   "source": [
    "* Tokens of the reviews"
   ]
  },
  {
   "cell_type": "code",
   "execution_count": 51,
   "id": "attractive-church",
   "metadata": {},
   "outputs": [],
   "source": [
    "def extract_tokens(words):\n",
    "    words = re.sub(\"[^a-zA-Z]\",\" \", words)\n",
    "    text = words.lower().split()                   \n",
    "    return \" \".join(text)"
   ]
  },
  {
   "cell_type": "code",
   "execution_count": 53,
   "id": "chubby-reservation",
   "metadata": {},
   "outputs": [],
   "source": [
    "data['review'] = data['review'].astype('str')\n",
    "data['tokens_reviews'] = data['review'].apply(extract_tokens)"
   ]
  },
  {
   "cell_type": "markdown",
   "id": "settled-denial",
   "metadata": {},
   "source": [
    "#### REMOVE STOP WORDS"
   ]
  },
  {
   "cell_type": "markdown",
   "id": "photographic-twins",
   "metadata": {},
   "source": [
    "will be added before positive and negative review extraction"
   ]
  },
  {
   "cell_type": "markdown",
   "id": "finished-sudan",
   "metadata": {},
   "source": [
    "#### REMOVE PUNCS"
   ]
  },
  {
   "cell_type": "markdown",
   "id": "married-europe",
   "metadata": {},
   "source": [
    "will be added before positive and negative review extraction"
   ]
  },
  {
   "cell_type": "markdown",
   "id": "psychological-jerusalem",
   "metadata": {},
   "source": [
    "* Merge reviews"
   ]
  },
  {
   "cell_type": "code",
   "execution_count": 56,
   "id": "owned-market",
   "metadata": {},
   "outputs": [],
   "source": [
    "reviews = data[['review', 'tokens_reviews', 'recommended']]"
   ]
  },
  {
   "cell_type": "markdown",
   "id": "palestinian-intranet",
   "metadata": {},
   "source": [
    "* Positive and Negative Reviews"
   ]
  },
  {
   "cell_type": "code",
   "execution_count": 58,
   "id": "parental-religious",
   "metadata": {},
   "outputs": [
    {
     "data": {
      "text/plain": [
       "'absolutely wonderful silky and sexy and comfortable love this dress it s sooo pretty i happened to f'"
      ]
     },
     "execution_count": 58,
     "metadata": {},
     "output_type": "execute_result"
    }
   ],
   "source": [
    "positive = reviews[reviews['recommended']== 1]\n",
    "positive_words = []\n",
    "\n",
    "for review in positive['tokens_reviews']:\n",
    "    positive_words.append(review) \n",
    "positive_words = ' '.join(positive_words)\n",
    "\n",
    "positive_words[:100]"
   ]
  },
  {
   "cell_type": "code",
   "execution_count": 59,
   "id": "integral-disclaimer",
   "metadata": {},
   "outputs": [
    {
     "data": {
      "text/plain": [
       "'i had such high hopes for this dress and really wanted it to work for me i initially ordered the pet'"
      ]
     },
     "execution_count": 59,
     "metadata": {},
     "output_type": "execute_result"
    }
   ],
   "source": [
    "negative = reviews[reviews['recommended']== 0]\n",
    "negative_words = []\n",
    "\n",
    "for review in negative['tokens_reviews']:\n",
    "    negative_words.append(review)\n",
    "negative_words = ' '.join(negative_words)\n",
    "\n",
    "negative_words[:100]"
   ]
  },
  {
   "cell_type": "markdown",
   "id": "illegal-revelation",
   "metadata": {},
   "source": [
    "### WORDCLOUD WILL BE ADDED"
   ]
  },
  {
   "cell_type": "code",
   "execution_count": null,
   "id": "exempt-numbers",
   "metadata": {},
   "outputs": [],
   "source": []
  }
 ],
 "metadata": {
  "kernelspec": {
   "display_name": "Python 3",
   "language": "python",
   "name": "python3"
  },
  "language_info": {
   "codemirror_mode": {
    "name": "ipython",
    "version": 3
   },
   "file_extension": ".py",
   "mimetype": "text/x-python",
   "name": "python",
   "nbconvert_exporter": "python",
   "pygments_lexer": "ipython3",
   "version": "3.9.2"
  }
 },
 "nbformat": 4,
 "nbformat_minor": 5
}
