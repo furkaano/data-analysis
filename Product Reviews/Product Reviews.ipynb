{
 "cells": [
  {
   "cell_type": "code",
   "execution_count": 91,
   "id": "cubic-declaration",
   "metadata": {},
   "outputs": [],
   "source": [
    "import pandas as pd\n",
    "import numpy as np\n",
    "import random\n",
    "\n",
    "import string\n",
    "import re\n",
    "import nltk\n",
    "from nltk.corpus import stopwords\n",
    "\n",
    "from sklearn.metrics import accuracy_score\n",
    "from sklearn.naive_bayes import MultinomialNB\n",
    "from sklearn.model_selection import train_test_split\n",
    "from sklearn.feature_extraction.text import CountVectorizer\n",
    "from sklearn.feature_extraction.text import TfidfTransformer"
   ]
  },
  {
   "cell_type": "markdown",
   "id": "neutral-finnish",
   "metadata": {},
   "source": [
    "### READING REVIEWS FROM TEXT FILE"
   ]
  },
  {
   "cell_type": "code",
   "execution_count": 23,
   "id": "changed-plasma",
   "metadata": {},
   "outputs": [],
   "source": [
    "data_neg= pd.read_csv('reviews-neg.txt', delimiter='\\t', names=[\"review\"])\n",
    "data_pos= pd.read_csv('reviews-pos.txt', delimiter='\\t', names=[\"review\"])"
   ]
  },
  {
   "cell_type": "code",
   "execution_count": 24,
   "id": "light-barrel",
   "metadata": {},
   "outputs": [],
   "source": [
    "data_neg['label'] = 'neg'\n",
    "data_pos['label'] = 'pos'"
   ]
  },
  {
   "cell_type": "code",
   "execution_count": 54,
   "id": "composed-bones",
   "metadata": {},
   "outputs": [],
   "source": [
    "frames = [data_neg, data_pos]\n",
    "\n",
    "data = pd.concat(frames)\n",
    "#df = df.sample(frac = 1) ## shuffle"
   ]
  },
  {
   "cell_type": "code",
   "execution_count": 55,
   "id": "patient-found",
   "metadata": {},
   "outputs": [
    {
     "data": {
      "text/html": [
       "<div>\n",
       "<style scoped>\n",
       "    .dataframe tbody tr th:only-of-type {\n",
       "        vertical-align: middle;\n",
       "    }\n",
       "\n",
       "    .dataframe tbody tr th {\n",
       "        vertical-align: top;\n",
       "    }\n",
       "\n",
       "    .dataframe thead th {\n",
       "        text-align: right;\n",
       "    }\n",
       "</style>\n",
       "<table border=\"1\" class=\"dataframe\">\n",
       "  <thead>\n",
       "    <tr style=\"text-align: right;\">\n",
       "      <th></th>\n",
       "      <th>review</th>\n",
       "      <th>label</th>\n",
       "    </tr>\n",
       "  </thead>\n",
       "  <tbody>\n",
       "    <tr>\n",
       "      <th>0</th>\n",
       "      <td>beklentimin altında bir ürün kaliteli değil</td>\n",
       "      <td>neg</td>\n",
       "    </tr>\n",
       "    <tr>\n",
       "      <th>1</th>\n",
       "      <td>3. kademe hız da motor titreme yapıyor.bu sebe...</td>\n",
       "      <td>neg</td>\n",
       "    </tr>\n",
       "    <tr>\n",
       "      <th>2</th>\n",
       "      <td>başlığı sabit durmuyor. arka koruma demiri üfl...</td>\n",
       "      <td>neg</td>\n",
       "    </tr>\n",
       "    <tr>\n",
       "      <th>3</th>\n",
       "      <td>ürün gayet kalitesiz öğrenci evinde aldığımız ...</td>\n",
       "      <td>neg</td>\n",
       "    </tr>\n",
       "    <tr>\n",
       "      <th>4</th>\n",
       "      <td>yuksek hizda kullanirken titredim yaptigi icin...</td>\n",
       "      <td>neg</td>\n",
       "    </tr>\n",
       "  </tbody>\n",
       "</table>\n",
       "</div>"
      ],
      "text/plain": [
       "                                              review label\n",
       "0        beklentimin altında bir ürün kaliteli değil   neg\n",
       "1  3. kademe hız da motor titreme yapıyor.bu sebe...   neg\n",
       "2  başlığı sabit durmuyor. arka koruma demiri üfl...   neg\n",
       "3  ürün gayet kalitesiz öğrenci evinde aldığımız ...   neg\n",
       "4  yuksek hizda kullanirken titredim yaptigi icin...   neg"
      ]
     },
     "execution_count": 55,
     "metadata": {},
     "output_type": "execute_result"
    }
   ],
   "source": [
    "data.head()"
   ]
  },
  {
   "cell_type": "code",
   "execution_count": 56,
   "id": "owned-amsterdam",
   "metadata": {},
   "outputs": [
    {
     "data": {
      "text/plain": [
       "pos    219744\n",
       "neg     14879\n",
       "Name: label, dtype: int64"
      ]
     },
     "execution_count": 56,
     "metadata": {},
     "output_type": "execute_result"
    }
   ],
   "source": [
    "data['label'].value_counts()"
   ]
  },
  {
   "cell_type": "markdown",
   "id": "level-australia",
   "metadata": {},
   "source": [
    "### DATA PREPROCESSING"
   ]
  },
  {
   "cell_type": "code",
   "execution_count": 58,
   "id": "optical-constraint",
   "metadata": {},
   "outputs": [],
   "source": [
    "punctuations = string.punctuation\n",
    "stop_words = stopwords.words('turkish')"
   ]
  },
  {
   "cell_type": "markdown",
   "id": "extensive-equality",
   "metadata": {},
   "source": [
    "* PUNCTUATIONS"
   ]
  },
  {
   "cell_type": "code",
   "execution_count": 65,
   "id": "consecutive-repeat",
   "metadata": {},
   "outputs": [
    {
     "data": {
      "text/plain": [
       "'!\"#$%&\\'()*+,-./:;<=>?@[\\\\]^_`{|}~'"
      ]
     },
     "execution_count": 65,
     "metadata": {},
     "output_type": "execute_result"
    }
   ],
   "source": [
    "punctuations"
   ]
  },
  {
   "cell_type": "markdown",
   "id": "fifteen-title",
   "metadata": {},
   "source": [
    "* STOPWORDS"
   ]
  },
  {
   "cell_type": "code",
   "execution_count": 67,
   "id": "random-chemical",
   "metadata": {},
   "outputs": [
    {
     "name": "stdout",
     "output_type": "stream",
     "text": [
      "['acaba', 'ama', 'aslında', 'az', 'bazı', 'belki', 'biri', 'birkaç', 'birşey', 'biz', 'bu', 'çok', 'çünkü', 'da', 'daha', 'de', 'defa', 'diye', 'eğer', 'en', 'gibi', 'hem', 'hep', 'hepsi', 'her', 'hiç', 'için', 'ile', 'ise', 'kez', 'ki', 'kim', 'mı', 'mu', 'mü', 'nasıl', 'ne', 'neden', 'nerde', 'nerede', 'nereye', 'niçin', 'niye', 'o', 'sanki', 'şey', 'siz', 'şu', 'tüm', 've', 'veya', 'ya', 'yani']\n"
     ]
    }
   ],
   "source": [
    "print(stop_words)"
   ]
  },
  {
   "cell_type": "code",
   "execution_count": 70,
   "id": "dense-lunch",
   "metadata": {},
   "outputs": [
    {
     "name": "stdout",
     "output_type": "stream",
     "text": [
      "beklentimin altında bir ürün kaliteli değil\n",
      "-----------------------\n",
      "beklentimin altında bir ürün kaliteli değil \n",
      "****************************\n",
      "3. kademe hız da motor titreme yapıyor.bu sebebten 3.kademe kullanımda uzun ömürlü olacağını zannetmiyorum.elide rahatsız ediyor.\n",
      "-----------------------\n",
      "3. kademe hız motor titreme yapıyor.bu sebebten 3.kademe kullanımda uzun ömürlü olacağını zannetmiyorum.elide rahatsız ediyor. \n",
      "****************************\n",
      "başlığı sabit durmuyor. arka koruma demiri üfleme hızını 2.sewiye yapınca yüksek ses cikariyor\n",
      "-----------------------\n",
      "başlığı sabit durmuyor. arka koruma demiri üfleme hızını 2.sewiye yapınca yüksek ses cikariyor \n",
      "****************************\n",
      "ürün gayet kalitesiz öğrenci evinde aldığımız 20 tl lil fön makinası ile aynı hiç farkı yok nerdeyse tek fark üzerinde arzum yazması o kadar.\n",
      "-----------------------\n",
      "ürün gayet kalitesiz öğrenci evinde aldığımız tl lil fön makinası aynı farkı yok nerdeyse tek fark üzerinde arzum yazması kadar. \n",
      "****************************\n",
      "yuksek hizda kullanirken titredim yaptigi icin eli rahatsiz ediyor\n",
      "-----------------------\n",
      "yuksek hizda kullanirken titredim yaptigi icin eli rahatsiz ediyor \n",
      "****************************\n"
     ]
    }
   ],
   "source": [
    "## CLEANING STOPWORDS PROCESS\n",
    "for d in data['review'].head():\n",
    "    print(d+ '\\n-----------------------')\n",
    "    temp = ''\n",
    "    for word in d.split():\n",
    "        if word not in stop_words and not word.isnumeric():\n",
    "            temp += word + ' '\n",
    "    print(temp + '\\n****************************')"
   ]
  },
  {
   "cell_type": "code",
   "execution_count": 71,
   "id": "found-roots",
   "metadata": {},
   "outputs": [
    {
     "name": "stdout",
     "output_type": "stream",
     "text": [
      "beklentimin altında bir ürün kaliteli değil\n",
      "-----------------------\n",
      "beklentimin altında bir ürün kaliteli değil\n",
      "****************************\n",
      "3. kademe hız da motor titreme yapıyor.bu sebebten 3.kademe kullanımda uzun ömürlü olacağını zannetmiyorum.elide rahatsız ediyor.\n",
      "-----------------------\n",
      "3 kademe hız da motor titreme yapıyorbu sebebten 3kademe kullanımda uzun ömürlü olacağını zannetmiyorumelide rahatsız ediyor\n",
      "****************************\n",
      "başlığı sabit durmuyor. arka koruma demiri üfleme hızını 2.sewiye yapınca yüksek ses cikariyor\n",
      "-----------------------\n",
      "başlığı sabit durmuyor arka koruma demiri üfleme hızını 2sewiye yapınca yüksek ses cikariyor\n",
      "****************************\n",
      "ürün gayet kalitesiz öğrenci evinde aldığımız 20 tl lil fön makinası ile aynı hiç farkı yok nerdeyse tek fark üzerinde arzum yazması o kadar.\n",
      "-----------------------\n",
      "ürün gayet kalitesiz öğrenci evinde aldığımız 20 tl lil fön makinası ile aynı hiç farkı yok nerdeyse tek fark üzerinde arzum yazması o kadar\n",
      "****************************\n",
      "yuksek hizda kullanirken titredim yaptigi icin eli rahatsiz ediyor\n",
      "-----------------------\n",
      "yuksek hizda kullanirken titredim yaptigi icin eli rahatsiz ediyor\n",
      "****************************\n"
     ]
    }
   ],
   "source": [
    "## CLEANING PUNCTUATIONS PROCESS\n",
    "for d in data['review'].head():\n",
    "    print(d+ '\\n-----------------------')\n",
    "    temp = ''\n",
    "    for word in d:\n",
    "        if word not in punctuations:\n",
    "            temp += word\n",
    "    print(temp + '\\n****************************')\n",
    "    d = temp"
   ]
  },
  {
   "cell_type": "markdown",
   "id": "answering-namibia",
   "metadata": {},
   "source": [
    "### CLEANED DATASET"
   ]
  },
  {
   "cell_type": "code",
   "execution_count": 72,
   "id": "competitive-export",
   "metadata": {},
   "outputs": [],
   "source": [
    "data.to_csv(r'./cleaned.csv', index=False)"
   ]
  },
  {
   "cell_type": "code",
   "execution_count": 75,
   "id": "verbal-harvard",
   "metadata": {},
   "outputs": [
    {
     "data": {
      "text/html": [
       "<div>\n",
       "<style scoped>\n",
       "    .dataframe tbody tr th:only-of-type {\n",
       "        vertical-align: middle;\n",
       "    }\n",
       "\n",
       "    .dataframe tbody tr th {\n",
       "        vertical-align: top;\n",
       "    }\n",
       "\n",
       "    .dataframe thead th {\n",
       "        text-align: right;\n",
       "    }\n",
       "</style>\n",
       "<table border=\"1\" class=\"dataframe\">\n",
       "  <thead>\n",
       "    <tr style=\"text-align: right;\">\n",
       "      <th></th>\n",
       "      <th>review</th>\n",
       "      <th>label</th>\n",
       "    </tr>\n",
       "  </thead>\n",
       "  <tbody>\n",
       "    <tr>\n",
       "      <th>0</th>\n",
       "      <td>beklentimin altında bir ürün kaliteli değil</td>\n",
       "      <td>neg</td>\n",
       "    </tr>\n",
       "    <tr>\n",
       "      <th>1</th>\n",
       "      <td>3. kademe hız da motor titreme yapıyor.bu sebe...</td>\n",
       "      <td>neg</td>\n",
       "    </tr>\n",
       "    <tr>\n",
       "      <th>2</th>\n",
       "      <td>başlığı sabit durmuyor. arka koruma demiri üfl...</td>\n",
       "      <td>neg</td>\n",
       "    </tr>\n",
       "    <tr>\n",
       "      <th>3</th>\n",
       "      <td>ürün gayet kalitesiz öğrenci evinde aldığımız ...</td>\n",
       "      <td>neg</td>\n",
       "    </tr>\n",
       "    <tr>\n",
       "      <th>4</th>\n",
       "      <td>yuksek hizda kullanirken titredim yaptigi icin...</td>\n",
       "      <td>neg</td>\n",
       "    </tr>\n",
       "  </tbody>\n",
       "</table>\n",
       "</div>"
      ],
      "text/plain": [
       "                                              review label\n",
       "0        beklentimin altında bir ürün kaliteli değil   neg\n",
       "1  3. kademe hız da motor titreme yapıyor.bu sebe...   neg\n",
       "2  başlığı sabit durmuyor. arka koruma demiri üfl...   neg\n",
       "3  ürün gayet kalitesiz öğrenci evinde aldığımız ...   neg\n",
       "4  yuksek hizda kullanirken titredim yaptigi icin...   neg"
      ]
     },
     "execution_count": 75,
     "metadata": {},
     "output_type": "execute_result"
    }
   ],
   "source": [
    "data = pd.read_csv('cleaned.csv', sep=\",\")\n",
    "data.head()"
   ]
  },
  {
   "cell_type": "markdown",
   "id": "mental-cooking",
   "metadata": {},
   "source": [
    "#### SPLIT TRAIN AND TEST"
   ]
  },
  {
   "cell_type": "code",
   "execution_count": 79,
   "id": "similar-marine",
   "metadata": {},
   "outputs": [],
   "source": [
    "X_train, X_test, y_train, y_test = train_test_split(data['review'].astype('U').values,\n",
    "                                                    data['label'].astype('U').values, test_size = 0.2, random_state=42)"
   ]
  },
  {
   "cell_type": "code",
   "execution_count": 80,
   "id": "velvet-description",
   "metadata": {},
   "outputs": [
    {
     "name": "stdout",
     "output_type": "stream",
     "text": [
      "X_train :  (187698,)\n",
      "X_test :  (46925,)\n"
     ]
    }
   ],
   "source": [
    "print(\"X_train : \", X_train.shape)\n",
    "print(\"X_test : \", X_test.shape)"
   ]
  },
  {
   "cell_type": "markdown",
   "id": "leading-table",
   "metadata": {},
   "source": [
    "#### COUNT VECTOR "
   ]
  },
  {
   "cell_type": "markdown",
   "id": "pursuant-myrtle",
   "metadata": {},
   "source": [
    "Let's create a counting vector.                                             \n",
    "Thanks to this method, we both tokenize the review and create a vector for each review that keeps the information of how many times the words in these review are used."
   ]
  },
  {
   "cell_type": "code",
   "execution_count": 82,
   "id": "patient-heaven",
   "metadata": {},
   "outputs": [
    {
     "name": "stdout",
     "output_type": "stream",
     "text": [
      "Shape :  (187698, 186366)\n"
     ]
    }
   ],
   "source": [
    "count_vect = CountVectorizer()\n",
    "X_train_counts = count_vect.fit_transform(X_train)\n",
    "\n",
    "print('Shape : ', X_train_counts.shape)"
   ]
  },
  {
   "cell_type": "markdown",
   "id": "cloudy-carry",
   "metadata": {},
   "source": [
    "#### TF*IDF VECTOR ( Term Frequency * Inverse Document Frequency )"
   ]
  },
  {
   "cell_type": "markdown",
   "id": "awful-dividend",
   "metadata": {},
   "source": [
    "The words we will use to represent each review should be unique to that review, meaning words that are not frequently used in other review in the dataset."
   ]
  },
  {
   "cell_type": "code",
   "execution_count": 84,
   "id": "minute-postage",
   "metadata": {},
   "outputs": [
    {
     "name": "stdout",
     "output_type": "stream",
     "text": [
      "Shape :  (187698, 186366)\n"
     ]
    }
   ],
   "source": [
    "tfidf_transformer = TfidfTransformer()\n",
    "X_train_tfidf = tfidf_transformer.fit_transform(X_train_counts)\n",
    "\n",
    "print('Shape : ', X_train_tfidf.shape)"
   ]
  },
  {
   "cell_type": "markdown",
   "id": "eleven-period",
   "metadata": {},
   "source": [
    "### NAIVE BAYES MODEL"
   ]
  },
  {
   "cell_type": "code",
   "execution_count": 86,
   "id": "developed-rating",
   "metadata": {},
   "outputs": [],
   "source": [
    "clf = MultinomialNB().fit(X_train_tfidf, y_train)\n",
    "X_test_counts = count_vect.transform(X_test)\n",
    "X_test_tfidf = tfidf_transformer.transform(X_test_counts)"
   ]
  },
  {
   "cell_type": "markdown",
   "id": "arctic-johnston",
   "metadata": {},
   "source": [
    "####  PERFORM MODEL PERFORMANCE"
   ]
  },
  {
   "cell_type": "code",
   "execution_count": 90,
   "id": "sudden-sweet",
   "metadata": {},
   "outputs": [
    {
     "name": "stdout",
     "output_type": "stream",
     "text": [
      "'samsung s5 imi 4 kere doldurdu süper' => pos\n",
      "'hızlı ve güvenli teslimat için ayrıca hb teşekkürler. ' => pos\n",
      "'çok iyi yapışıyor.bu güne kadar çok marka denedim hepsinin yapışkanı çok kötüydü.hep başka yapıştırıcılarla takviye ettim.yorumu ve tavsiyeyi hak eden bir ürün.' => pos\n",
      "'çok çabuk ulaştı. fiyatına göre gayet basarılı ' => pos\n",
      "'bzen insan kendine bahane, engel yaratır bazı şeyleri yapmak için. bu kitap yapmak istediğiniz şeylere hç bir şeyin engel olmadığını, azmin, başarının öyküsünü anlatıyor.çok duygusal, çok etkileyici.mutlaka okuyun.' => pos\n"
     ]
    }
   ],
   "source": [
    "y_pred = clf.predict(X_test_tfidf)\n",
    "for review, sentiment in zip(X_test[:5], y_pred[:]):\n",
    "    print('%r => %s' % (review, sentiment))"
   ]
  },
  {
   "cell_type": "markdown",
   "id": "sexual-mills",
   "metadata": {},
   "source": [
    "#### TEST RESULTS"
   ]
  },
  {
   "cell_type": "code",
   "execution_count": 92,
   "id": "prescribed-basic",
   "metadata": {},
   "outputs": [
    {
     "data": {
      "text/plain": [
       "0.9375386254661694"
      ]
     },
     "execution_count": 92,
     "metadata": {},
     "output_type": "execute_result"
    }
   ],
   "source": [
    "accuracy_score(y_test, y_pred)"
   ]
  }
 ],
 "metadata": {
  "kernelspec": {
   "display_name": "Python 3",
   "language": "python",
   "name": "python3"
  },
  "language_info": {
   "codemirror_mode": {
    "name": "ipython",
    "version": 3
   },
   "file_extension": ".py",
   "mimetype": "text/x-python",
   "name": "python",
   "nbconvert_exporter": "python",
   "pygments_lexer": "ipython3",
   "version": "3.9.2"
  }
 },
 "nbformat": 4,
 "nbformat_minor": 5
}
